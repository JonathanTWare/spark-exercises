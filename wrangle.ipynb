{
 "cells": [
  {
   "cell_type": "code",
   "execution_count": 1,
   "id": "6488b8e4-5870-4dba-8a04-3f21825021d7",
   "metadata": {
    "tags": []
   },
   "outputs": [
    {
     "name": "stderr",
     "output_type": "stream",
     "text": [
      "Setting default log level to \"WARN\".\n",
      "To adjust logging level use sc.setLogLevel(newLevel). For SparkR, use setLogLevel(newLevel).\n",
      "23/08/23 10:41:27 WARN NativeCodeLoader: Unable to load native-hadoop library for your platform... using builtin-java classes where applicable\n"
     ]
    }
   ],
   "source": [
    "from pyspark.sql import SparkSession\n",
    "from pyspark.sql.functions import *\n",
    "import pandas as pd\n",
    "spark = SparkSession.builder.getOrCreate()"
   ]
  },
  {
   "cell_type": "code",
   "execution_count": 2,
   "id": "3b7b70ff-9b71-4db5-ab9b-fcfb3efc42e3",
   "metadata": {
    "tags": []
   },
   "outputs": [],
   "source": [
    "from env import host, user, password\n",
    "\n",
    "def get_db_url(database, host=host, user=user, password=password):\n",
    "    return f'mysql+pymysql://{user}:{password}@{host}/{database}'\n"
   ]
  },
  {
   "cell_type": "markdown",
   "id": "a812c5ac-3154-4818-87b0-4413c6930754",
   "metadata": {},
   "source": [
    "# These exercises use the cases, dept, and source tables from the 311_data on the Codeup MySQL server."
   ]
  },
  {
   "cell_type": "markdown",
   "id": "db8436a8-2378-41c7-91c5-18631f8a7e5d",
   "metadata": {
    "tags": []
   },
   "source": [
    "# Read the cases, department, and source data into their own Spark dataframes."
   ]
  },
  {
   "cell_type": "code",
   "execution_count": 3,
   "id": "58702b2f-db52-42c7-a711-37df54895973",
   "metadata": {
    "tags": []
   },
   "outputs": [
    {
     "name": "stderr",
     "output_type": "stream",
     "text": [
      "23/08/23 10:45:23 WARN TaskSetManager: Stage 0 contains a task of very large size (18868 KiB). The maximum recommended task size is 1000 KiB.\n",
      "23/08/23 10:45:28 WARN PythonRunner: Detected deadlock while completing task 0.0 in stage 0 (TID 0): Attempting to kill Python Worker\n",
      "                                                                                \r"
     ]
    },
    {
     "name": "stdout",
     "output_type": "stream",
     "text": [
      "+----------+----------------+----------------+------------+---------+-------------+-----------+----------------+--------------------+-----------+-----------+---------+--------------------+----------------+\n",
      "|   case_id|case_opened_date|case_closed_date|SLA_due_date|case_late|num_days_late|case_closed|   dept_division|service_request_type|   SLA_days|case_status|source_id|     request_address|council_district|\n",
      "+----------+----------------+----------------+------------+---------+-------------+-----------+----------------+--------------------+-----------+-----------+---------+--------------------+----------------+\n",
      "|1014127332|     1/1/18 0:42|    1/1/18 12:29|9/26/20 0:42|       NO| -998.5087616|        YES|Field Operations|        Stray Animal|      999.0|     Closed| svcCRMLS|2315  EL PASO ST,...|               5|\n",
      "|1014127333|     1/1/18 0:46|     1/3/18 8:11| 1/5/18 8:30|       NO| -2.012604167|        YES|     Storm Water|Removal Of Obstru...|4.322222222|     Closed| svcCRMSS|2215  GOLIAD RD, ...|               3|\n",
      "|1014127334|     1/1/18 0:48|     1/2/18 7:57| 1/5/18 8:30|       NO| -3.022337963|        YES|     Storm Water|Removal Of Obstru...|4.320729167|     Closed| svcCRMSS|102  PALFREY ST W...|               3|\n",
      "|1014127335|     1/1/18 1:29|     1/2/18 8:13|1/17/18 8:30|       NO| -15.01148148|        YES|Code Enforcement|Front Or Side Yar...|16.29188657|     Closed| svcCRMSS|114  LA GARDE ST,...|               3|\n",
      "+----------+----------------+----------------+------------+---------+-------------+-----------+----------------+--------------------+-----------+-----------+---------+--------------------+----------------+\n",
      "only showing top 4 rows\n",
      "\n"
     ]
    }
   ],
   "source": [
    "query = \"\"\"SELECT * FROM cases\"\"\"\n",
    "url = get_db_url(\"311_data\")\n",
    "cases_df = pd.read_sql(query, url)\n",
    "cases_df = spark.createDataFrame(cases_df)\n",
    "cases_df.show(4)"
   ]
  },
  {
   "cell_type": "code",
   "execution_count": 4,
   "id": "a3374a82-c9d2-4584-8f95-7144901fd701",
   "metadata": {
    "tags": []
   },
   "outputs": [
    {
     "name": "stdout",
     "output_type": "stream",
     "text": [
      "+--------------------+--------------------+----------------------+-------------------+\n",
      "|       dept_division|           dept_name|standardized_dept_name|dept_subject_to_SLA|\n",
      "+--------------------+--------------------+----------------------+-------------------+\n",
      "|     311 Call Center|    Customer Service|      Customer Service|                YES|\n",
      "|               Brush|Solid Waste Manag...|           Solid Waste|                YES|\n",
      "|     Clean and Green|Parks and Recreation|    Parks & Recreation|                YES|\n",
      "|Clean and Green N...|Parks and Recreation|    Parks & Recreation|                YES|\n",
      "+--------------------+--------------------+----------------------+-------------------+\n",
      "only showing top 4 rows\n",
      "\n"
     ]
    }
   ],
   "source": [
    "query = \"\"\"SELECT * FROM dept\"\"\"\n",
    "url = get_db_url(\"311_data\")\n",
    "dep_df = pd.read_sql(query, url)\n",
    "dep_df = spark.createDataFrame(dep_df)\n",
    "dep_df.show(4)"
   ]
  },
  {
   "cell_type": "code",
   "execution_count": 5,
   "id": "33b13af2-707f-49cd-9469-0e4c56bb6338",
   "metadata": {
    "tags": []
   },
   "outputs": [
    {
     "name": "stdout",
     "output_type": "stream",
     "text": [
      "+-----+---------+----------------+\n",
      "|index|source_id| source_username|\n",
      "+-----+---------+----------------+\n",
      "|    0|   100137|Merlene Blodgett|\n",
      "|    1|   103582|     Carmen Cura|\n",
      "|    2|   106463| Richard Sanchez|\n",
      "|    3|   119403|  Betty De Hoyos|\n",
      "+-----+---------+----------------+\n",
      "only showing top 4 rows\n",
      "\n"
     ]
    }
   ],
   "source": [
    "query = \"\"\"SELECT * FROM source\"\"\"\n",
    "url = get_db_url(\"311_data\")\n",
    "source_df = pd.read_sql(query, url)\n",
    "source_df = spark.createDataFrame(source_df)\n",
    "source_df.show(4)"
   ]
  },
  {
   "cell_type": "markdown",
   "id": "7d86e692-41e6-43c0-9458-f2c6ade14c61",
   "metadata": {},
   "source": [
    "# Let's see how writing to the local disk works in Spark:"
   ]
  },
  {
   "cell_type": "markdown",
   "id": "0a076ff5-4662-44fb-af46-3236a2054329",
   "metadata": {},
   "source": [
    "## Write the code necessary to store the source data in both csv and json format, store these as sources_csv and sources_json"
   ]
  },
  {
   "cell_type": "code",
   "execution_count": 6,
   "id": "d071efa1-131f-438c-b9ec-9a77e8870447",
   "metadata": {
    "tags": []
   },
   "outputs": [
    {
     "name": "stderr",
     "output_type": "stream",
     "text": [
      "                                                                                \r"
     ]
    }
   ],
   "source": [
    "(\n",
    "    source_df.write.format(\"csv\")\n",
    "    .mode(\"overwrite\")\n",
    "    .option(\"header\", \"true\")\n",
    "    .save(\"source_csv\")\n",
    ")"
   ]
  },
  {
   "cell_type": "code",
   "execution_count": 7,
   "id": "9c372da4-f07e-4cd6-a2ea-c0d57e23b3de",
   "metadata": {
    "tags": []
   },
   "outputs": [
    {
     "name": "stderr",
     "output_type": "stream",
     "text": [
      "                                                                                \r"
     ]
    }
   ],
   "source": [
    "(\n",
    "    source_df.write.format(\"json\")\n",
    "    .mode(\"overwrite\")\n",
    "    .option(\"header\", \"true\")\n",
    "    .save(\"source_json\")\n",
    ")"
   ]
  },
  {
   "cell_type": "code",
   "execution_count": 8,
   "id": "7f0da84a-7b02-43e4-9b0d-5ee43c3f9992",
   "metadata": {
    "tags": []
   },
   "outputs": [
    {
     "name": "stderr",
     "output_type": "stream",
     "text": [
      "                                                                                \r"
     ]
    }
   ],
   "source": [
    "(\n",
    "    dep_df.write.format(\"csv\")\n",
    "    .mode(\"overwrite\")\n",
    "    .option(\"header\", \"true\")\n",
    "    .save(\"dept_csv\")\n",
    ")\n",
    "\n",
    "(\n",
    "    dep_df.write.format(\"json\")\n",
    "    .mode(\"overwrite\")\n",
    "    .option(\"header\", \"true\")\n",
    "    .save(\"dept_json\")\n",
    ")"
   ]
  },
  {
   "cell_type": "code",
   "execution_count": 9,
   "id": "dcffe5eb-2b76-46c6-a4e1-038eff3a8da9",
   "metadata": {
    "tags": []
   },
   "outputs": [
    {
     "name": "stderr",
     "output_type": "stream",
     "text": [
      "23/08/23 10:45:38 WARN TaskSetManager: Stage 8 contains a task of very large size (18868 KiB). The maximum recommended task size is 1000 KiB.\n",
      "23/08/23 10:45:46 WARN TaskSetManager: Stage 9 contains a task of very large size (18868 KiB). The maximum recommended task size is 1000 KiB.\n",
      "                                                                                \r"
     ]
    }
   ],
   "source": [
    "(\n",
    "    cases_df.write.format(\"csv\")\n",
    "    .mode(\"overwrite\")\n",
    "    .option(\"header\", \"true\")\n",
    "    .save(\"cases_csv\")\n",
    ")\n",
    "\n",
    "(\n",
    "    cases_df.write.format(\"json\")\n",
    "    .mode(\"overwrite\")\n",
    "    .option(\"header\", \"true\")\n",
    "    .save(\"cases_json\")\n",
    ")"
   ]
  },
  {
   "cell_type": "markdown",
   "id": "7ddf3e27-4883-42e4-be0d-e3e969dd713b",
   "metadata": {},
   "source": [
    "## Inspect your folder structure. What do you notice?"
   ]
  },
  {
   "cell_type": "markdown",
   "id": "a22bcb79-2bf1-445d-81a9-f93ac18ca7bc",
   "metadata": {},
   "source": [
    "#### inside each folder is \"parts\" of the data"
   ]
  },
  {
   "cell_type": "markdown",
   "id": "b80d57a9-76db-4283-b99f-bb7f507b64d9",
   "metadata": {},
   "source": [
    "## Inspect the data in your dataframes. Are the data types appropriate? Write the code necessary to cast the values to the appropriate types."
   ]
  },
  {
   "cell_type": "code",
   "execution_count": 10,
   "id": "de68777d-b4ee-44ed-bb94-73afd98f4a7c",
   "metadata": {
    "tags": []
   },
   "outputs": [
    {
     "data": {
      "text/plain": [
       "StructType([StructField('index', LongType(), True), StructField('source_id', StringType(), True), StructField('source_username', StringType(), True)])"
      ]
     },
     "execution_count": 10,
     "metadata": {},
     "output_type": "execute_result"
    }
   ],
   "source": [
    "source_df.schema"
   ]
  },
  {
   "cell_type": "code",
   "execution_count": 11,
   "id": "0eaa0e38-22ee-4bc4-878e-909a18943572",
   "metadata": {
    "tags": []
   },
   "outputs": [
    {
     "data": {
      "text/plain": [
       "StructType([StructField('dept_division', StringType(), True), StructField('dept_name', StringType(), True), StructField('standardized_dept_name', StringType(), True), StructField('dept_subject_to_SLA', StringType(), True)])"
      ]
     },
     "execution_count": 11,
     "metadata": {},
     "output_type": "execute_result"
    }
   ],
   "source": [
    "dep_df.schema"
   ]
  },
  {
   "cell_type": "code",
   "execution_count": 12,
   "id": "39f1be00-1766-46f6-b021-3fc28b862c49",
   "metadata": {
    "tags": []
   },
   "outputs": [
    {
     "data": {
      "text/plain": [
       "StructType([StructField('case_id', LongType(), True), StructField('case_opened_date', StringType(), True), StructField('case_closed_date', StringType(), True), StructField('SLA_due_date', StringType(), True), StructField('case_late', StringType(), True), StructField('num_days_late', DoubleType(), True), StructField('case_closed', StringType(), True), StructField('dept_division', StringType(), True), StructField('service_request_type', StringType(), True), StructField('SLA_days', DoubleType(), True), StructField('case_status', StringType(), True), StructField('source_id', StringType(), True), StructField('request_address', StringType(), True), StructField('council_district', LongType(), True)])"
      ]
     },
     "execution_count": 12,
     "metadata": {},
     "output_type": "execute_result"
    }
   ],
   "source": [
    "cases_df.schema"
   ]
  },
  {
   "cell_type": "code",
   "execution_count": 13,
   "id": "3db18d03-619e-4884-9eb0-57347a48a1c3",
   "metadata": {
    "tags": []
   },
   "outputs": [
    {
     "name": "stderr",
     "output_type": "stream",
     "text": [
      "23/08/23 10:45:49 WARN TaskSetManager: Stage 10 contains a task of very large size (18868 KiB). The maximum recommended task size is 1000 KiB.\n",
      "23/08/23 10:45:53 WARN PythonRunner: Detected deadlock while completing task 0.0 in stage 10 (TID 52): Attempting to kill Python Worker\n",
      "                                                                                \r"
     ]
    },
    {
     "name": "stdout",
     "output_type": "stream",
     "text": [
      "+----------------+----------------+\n",
      "|case_opened_date|case_closed_date|\n",
      "+----------------+----------------+\n",
      "|     1/1/18 0:42|    1/1/18 12:29|\n",
      "|     1/1/18 0:46|     1/3/18 8:11|\n",
      "|     1/1/18 0:48|     1/2/18 7:57|\n",
      "|     1/1/18 1:29|     1/2/18 8:13|\n",
      "|     1/1/18 1:34|    1/1/18 13:29|\n",
      "+----------------+----------------+\n",
      "only showing top 5 rows\n",
      "\n"
     ]
    },
    {
     "name": "stderr",
     "output_type": "stream",
     "text": [
      "23/08/23 10:45:53 WARN TaskSetManager: Stage 11 contains a task of very large size (18868 KiB). The maximum recommended task size is 1000 KiB.\n",
      "[Stage 11:>                                                         (0 + 1) / 1]\r"
     ]
    },
    {
     "name": "stdout",
     "output_type": "stream",
     "text": [
      "+-------------------+-------------------+-------------------+\n",
      "|   case_opened_date|   case_closed_date|      case_due_date|\n",
      "+-------------------+-------------------+-------------------+\n",
      "|2018-01-01 00:42:00|2018-01-01 00:42:00|2018-01-01 00:42:00|\n",
      "|2018-01-01 00:46:00|2018-01-01 00:46:00|2018-01-01 00:46:00|\n",
      "|2018-01-01 00:48:00|2018-01-01 00:48:00|2018-01-01 00:48:00|\n",
      "|2018-01-01 01:29:00|2018-01-01 01:29:00|2018-01-01 01:29:00|\n",
      "|2018-01-01 01:34:00|2018-01-01 01:34:00|2018-01-01 01:34:00|\n",
      "+-------------------+-------------------+-------------------+\n",
      "only showing top 5 rows\n",
      "\n"
     ]
    },
    {
     "name": "stderr",
     "output_type": "stream",
     "text": [
      "23/08/23 10:45:57 WARN PythonRunner: Detected deadlock while completing task 0.0 in stage 11 (TID 53): Attempting to kill Python Worker\n",
      "                                                                                \r"
     ]
    }
   ],
   "source": [
    "cases_df.select(\"case_opened_date\", \"case_closed_date\").show(5)\n",
    "\n",
    "fmt = \"M/d/yy H:mm\"\n",
    "cases_df = (\n",
    "    cases_df.withColumn(\"case_opened_date\", to_timestamp(\"case_opened_date\", fmt))\n",
    "    .withColumn(\"case_closed_date\", to_timestamp(\"case_opened_date\", fmt))\n",
    "    .withColumn(\"case_due_date\", to_timestamp(\"case_opened_date\", fmt))\n",
    ")\n",
    "\n",
    "\n",
    "cases_df.select(\"case_opened_date\", \"case_closed_date\", \"case_due_date\").show(5)"
   ]
  },
  {
   "cell_type": "code",
   "execution_count": 14,
   "id": "d4975157-7f57-452a-82fa-b23e3158fa02",
   "metadata": {
    "tags": []
   },
   "outputs": [],
   "source": [
    "cases_df = cases_df.withColumn(\"case_closed\", col(\"case_closed\").cast(\"boolean\"))"
   ]
  },
  {
   "cell_type": "markdown",
   "id": "98931c75-8585-442a-a32c-9d7c5a7cd600",
   "metadata": {},
   "source": [
    "# Data Exploratory Questions"
   ]
  },
  {
   "cell_type": "markdown",
   "id": "f6acd896-1241-480b-a2d3-ff458d39d36d",
   "metadata": {},
   "source": [
    "## How old is the latest (in terms of days past SLA) currently open issue? How long has the oldest (in terms of days since opened) currently opened issue been open?"
   ]
  },
  {
   "cell_type": "code",
   "execution_count": 15,
   "id": "fb70e558-e016-4bac-a431-11928bdabfd0",
   "metadata": {
    "tags": []
   },
   "outputs": [
    {
     "name": "stderr",
     "output_type": "stream",
     "text": [
      "23/08/23 10:45:58 WARN TaskSetManager: Stage 12 contains a task of very large size (18868 KiB). The maximum recommended task size is 1000 KiB.\n",
      "23/08/23 10:46:02 WARN PythonRunner: Detected deadlock while completing task 0.0 in stage 12 (TID 54): Attempting to kill Python Worker\n",
      "                                                                                \r"
     ]
    },
    {
     "name": "stdout",
     "output_type": "stream",
     "text": [
      "+-----------+-------------------+-------------------+--------+--------------+-------------+\n",
      "|case_closed|   case_opened_date|   case_closed_date|case_age|days_to_closed|case_lifetime|\n",
      "+-----------+-------------------+-------------------+--------+--------------+-------------+\n",
      "|       true|2018-01-01 00:42:00|2018-01-01 00:42:00|    2060|             0|            0|\n",
      "|       true|2018-01-01 00:46:00|2018-01-01 00:46:00|    2060|             0|            0|\n",
      "|       true|2018-01-01 00:48:00|2018-01-01 00:48:00|    2060|             0|            0|\n",
      "|       true|2018-01-01 01:29:00|2018-01-01 01:29:00|    2060|             0|            0|\n",
      "|       true|2018-01-01 01:34:00|2018-01-01 01:34:00|    2060|             0|            0|\n",
      "+-----------+-------------------+-------------------+--------+--------------+-------------+\n",
      "only showing top 5 rows\n",
      "\n"
     ]
    },
    {
     "name": "stderr",
     "output_type": "stream",
     "text": [
      "23/08/23 10:46:02 WARN TaskSetManager: Stage 13 contains a task of very large size (18868 KiB). The maximum recommended task size is 1000 KiB.\n",
      "[Stage 13:>                                                         (0 + 1) / 1]\r"
     ]
    },
    {
     "name": "stdout",
     "output_type": "stream",
     "text": [
      "+-----------+-------------------+-------------------+--------+--------------+-------------+\n",
      "|case_closed|   case_opened_date|   case_closed_date|case_age|days_to_closed|case_lifetime|\n",
      "+-----------+-------------------+-------------------+--------+--------------+-------------+\n",
      "|      false|2018-01-02 09:39:00|2018-01-02 09:39:00|    2059|             0|         2059|\n",
      "|      false|2018-01-02 10:49:00|2018-01-02 10:49:00|    2059|             0|         2059|\n",
      "|      false|2018-01-02 13:45:00|2018-01-02 13:45:00|    2059|             0|         2059|\n",
      "|      false|2018-01-02 14:09:00|2018-01-02 14:09:00|    2059|             0|         2059|\n",
      "|      false|2018-01-02 14:34:00|2018-01-02 14:34:00|    2059|             0|         2059|\n",
      "+-----------+-------------------+-------------------+--------+--------------+-------------+\n",
      "only showing top 5 rows\n",
      "\n"
     ]
    },
    {
     "name": "stderr",
     "output_type": "stream",
     "text": [
      "23/08/23 10:46:06 WARN PythonRunner: Detected deadlock while completing task 0.0 in stage 13 (TID 55): Attempting to kill Python Worker\n",
      "                                                                                \r"
     ]
    }
   ],
   "source": [
    "cases_df = (\n",
    "    cases_df.withColumn(\n",
    "        \"case_age\", datediff(current_timestamp(), \"case_opened_date\")\n",
    "    )\n",
    "    .withColumn(\n",
    "        \"days_to_closed\", datediff(\"case_closed_date\", \"case_opened_date\")\n",
    "    )\n",
    "    .withColumn(\n",
    "        \"case_lifetime\",\n",
    "        when(expr(\"! case_closed\"), col(\"case_age\")).otherwise(\n",
    "            col(\"days_to_closed\")\n",
    "        ),\n",
    "    )\n",
    ")\n",
    "\n",
    "cases_df.select(\n",
    "    \"case_closed\",\n",
    "    \"case_opened_date\",\n",
    "    \"case_closed_date\",\n",
    "    \"case_age\",\n",
    "    \"days_to_closed\",\n",
    "    \"case_lifetime\",\n",
    ").where(expr(\"case_closed\")).show(5)\n",
    "\n",
    "cases_df.select(\n",
    "    \"case_closed\",\n",
    "    \"case_opened_date\",\n",
    "    \"case_closed_date\",\n",
    "    \"case_age\",\n",
    "    \"days_to_closed\",\n",
    "    \"case_lifetime\",\n",
    ").where(expr(\"! case_closed\")).show(5)\n"
   ]
  },
  {
   "cell_type": "markdown",
   "id": "d3984960-994c-4054-a081-b08cbceb8ac3",
   "metadata": {},
   "source": [
    "#### Latest open case"
   ]
  },
  {
   "cell_type": "code",
   "execution_count": 16,
   "id": "e58e0dd4-7295-44e0-b6aa-3301878e3d74",
   "metadata": {
    "tags": []
   },
   "outputs": [
    {
     "name": "stderr",
     "output_type": "stream",
     "text": [
      "23/08/23 10:46:07 WARN TaskSetManager: Stage 14 contains a task of very large size (18868 KiB). The maximum recommended task size is 1000 KiB.\n",
      "/opt/homebrew/anaconda3/lib/python3.10/site-packages/pyspark/sql/pandas/conversion.py:251: FutureWarning: Passing unit-less datetime64 dtype to .astype is deprecated and will raise in a future version. Pass 'datetime64[ns]' instead\n",
      "  series = series.astype(t, copy=False)\n",
      "/opt/homebrew/anaconda3/lib/python3.10/site-packages/pyspark/sql/pandas/conversion.py:251: FutureWarning: Passing unit-less datetime64 dtype to .astype is deprecated and will raise in a future version. Pass 'datetime64[ns]' instead\n",
      "  series = series.astype(t, copy=False)\n",
      "/opt/homebrew/anaconda3/lib/python3.10/site-packages/pyspark/sql/pandas/conversion.py:251: FutureWarning: Passing unit-less datetime64 dtype to .astype is deprecated and will raise in a future version. Pass 'datetime64[ns]' instead\n",
      "  series = series.astype(t, copy=False)\n"
     ]
    },
    {
     "data": {
      "text/html": [
       "<div>\n",
       "<style scoped>\n",
       "    .dataframe tbody tr th:only-of-type {\n",
       "        vertical-align: middle;\n",
       "    }\n",
       "\n",
       "    .dataframe tbody tr th {\n",
       "        vertical-align: top;\n",
       "    }\n",
       "\n",
       "    .dataframe thead th {\n",
       "        text-align: right;\n",
       "    }\n",
       "</style>\n",
       "<table border=\"1\" class=\"dataframe\">\n",
       "  <thead>\n",
       "    <tr style=\"text-align: right;\">\n",
       "      <th></th>\n",
       "      <th>case_id</th>\n",
       "      <th>case_opened_date</th>\n",
       "      <th>case_closed_date</th>\n",
       "      <th>SLA_due_date</th>\n",
       "      <th>case_late</th>\n",
       "      <th>num_days_late</th>\n",
       "      <th>case_closed</th>\n",
       "      <th>dept_division</th>\n",
       "      <th>service_request_type</th>\n",
       "      <th>SLA_days</th>\n",
       "      <th>case_status</th>\n",
       "      <th>source_id</th>\n",
       "      <th>request_address</th>\n",
       "      <th>council_district</th>\n",
       "      <th>case_due_date</th>\n",
       "      <th>case_age</th>\n",
       "      <th>days_to_closed</th>\n",
       "      <th>case_lifetime</th>\n",
       "    </tr>\n",
       "  </thead>\n",
       "  <tbody>\n",
       "    <tr>\n",
       "      <th>0</th>\n",
       "      <td>1014759619</td>\n",
       "      <td>2018-08-08 10:38:00</td>\n",
       "      <td>2018-08-08 10:38:00</td>\n",
       "      <td>8/22/18 10:38</td>\n",
       "      <td>NO</td>\n",
       "      <td>-13.443056</td>\n",
       "      <td>False</td>\n",
       "      <td>Code Enforcement</td>\n",
       "      <td>Bandit Signs</td>\n",
       "      <td>14.0</td>\n",
       "      <td>Open</td>\n",
       "      <td>CRM_Listener</td>\n",
       "      <td>1935  MILITARY DR SW, San Antonio, 78221</td>\n",
       "      <td>3</td>\n",
       "      <td>2018-08-08 10:38:00</td>\n",
       "      <td>1841</td>\n",
       "      <td>0</td>\n",
       "      <td>1841</td>\n",
       "    </tr>\n",
       "  </tbody>\n",
       "</table>\n",
       "</div>"
      ],
      "text/plain": [
       "      case_id    case_opened_date    case_closed_date   SLA_due_date  \\\n",
       "0  1014759619 2018-08-08 10:38:00 2018-08-08 10:38:00  8/22/18 10:38   \n",
       "\n",
       "  case_late  num_days_late  case_closed     dept_division  \\\n",
       "0        NO     -13.443056        False  Code Enforcement   \n",
       "\n",
       "  service_request_type  SLA_days case_status     source_id  \\\n",
       "0         Bandit Signs      14.0        Open  CRM_Listener   \n",
       "\n",
       "                            request_address  council_district  \\\n",
       "0  1935  MILITARY DR SW, San Antonio, 78221                 3   \n",
       "\n",
       "        case_due_date  case_age  days_to_closed  case_lifetime  \n",
       "0 2018-08-08 10:38:00      1841               0           1841  "
      ]
     },
     "execution_count": 16,
     "metadata": {},
     "output_type": "execute_result"
    }
   ],
   "source": [
    "latest_open_case = cases_df.filter(col(\"case_closed\") == \"false\") \\\n",
    "                          .orderBy(col(\"case_opened_date\").desc()) \\\n",
    "                          .first()\n",
    "latest_open_case_pandas = [latest_open_case]\n",
    "\n",
    "latest_open_case_df = spark.createDataFrame(latest_open_case_pandas).toPandas()\n",
    "latest_open_case_df"
   ]
  },
  {
   "cell_type": "markdown",
   "id": "237f3c32-abb3-4d40-8034-664dd4f361aa",
   "metadata": {},
   "source": [
    "#### longest open case age"
   ]
  },
  {
   "cell_type": "code",
   "execution_count": 17,
   "id": "06cc83e2-fd25-4f0d-b2cd-514f96e4a53a",
   "metadata": {
    "tags": []
   },
   "outputs": [
    {
     "name": "stderr",
     "output_type": "stream",
     "text": [
      "23/08/23 10:46:15 WARN TaskSetManager: Stage 16 contains a task of very large size (18868 KiB). The maximum recommended task size is 1000 KiB.\n",
      "[Stage 16:>                                                         (0 + 8) / 8]\r"
     ]
    },
    {
     "name": "stdout",
     "output_type": "stream",
     "text": [
      "+-----------+------------+\n",
      "|case_closed|max_case_age|\n",
      "+-----------+------------+\n",
      "|       true|        2425|\n",
      "|      false|        2425|\n",
      "+-----------+------------+\n",
      "\n"
     ]
    },
    {
     "name": "stderr",
     "output_type": "stream",
     "text": [
      "                                                                                \r"
     ]
    }
   ],
   "source": [
    "max_case_age_df = cases_df.groupBy(\"case_closed\").agg(max(col(\"case_age\")).alias(\"max_case_age\"))\n",
    "max_case_age_df.show()"
   ]
  },
  {
   "cell_type": "markdown",
   "id": "19322bb0-1ad1-4867-b404-eef2f25ea8ae",
   "metadata": {},
   "source": [
    "## How many Stray Animal cases are there?"
   ]
  },
  {
   "cell_type": "code",
   "execution_count": 18,
   "id": "2471b5c1-b03e-417e-a685-791af06966b4",
   "metadata": {
    "tags": []
   },
   "outputs": [
    {
     "name": "stderr",
     "output_type": "stream",
     "text": [
      "23/08/23 10:46:18 WARN TaskSetManager: Stage 19 contains a task of very large size (18868 KiB). The maximum recommended task size is 1000 KiB.\n",
      "                                                                                \r"
     ]
    },
    {
     "data": {
      "text/plain": [
       "335"
      ]
     },
     "execution_count": 18,
     "metadata": {},
     "output_type": "execute_result"
    }
   ],
   "source": [
    "type_counts = cases_df.groupBy('service_request_type').agg(col(\"service_request_type\") == \"Stray Animal\").count()\n",
    "type_counts"
   ]
  },
  {
   "cell_type": "markdown",
   "id": "ca8e3348-146f-4716-bf6b-68fd914f411f",
   "metadata": {
    "tags": []
   },
   "source": [
    "## How many service requests that are assigned to the Field Operations department (dept_division) are not classified as \"Officer Standby\" request type (service_request_type)?"
   ]
  },
  {
   "cell_type": "code",
   "execution_count": 19,
   "id": "097bb716-ece8-4c88-97ce-fa9f4c7063c2",
   "metadata": {
    "tags": []
   },
   "outputs": [
    {
     "name": "stderr",
     "output_type": "stream",
     "text": [
      "23/08/23 10:46:21 WARN TaskSetManager: Stage 25 contains a task of very large size (18868 KiB). The maximum recommended task size is 1000 KiB.\n",
      "                                                                                \r"
     ]
    },
    {
     "data": {
      "text/plain": [
       "116915"
      ]
     },
     "execution_count": 19,
     "metadata": {},
     "output_type": "execute_result"
    }
   ],
   "source": [
    "filtered_cases = cases_df.filter((col(\"dept_division\") == \"Field Operations\") & (col(\"service_request_type\") != \"Office Standby\"))\n",
    "filtered_cases.count()"
   ]
  },
  {
   "cell_type": "markdown",
   "id": "32d9e5f3-e3ee-41ce-9adf-bd8ea5e53c3b",
   "metadata": {},
   "source": [
    "## Convert the council_district column to a string column."
   ]
  },
  {
   "cell_type": "code",
   "execution_count": 20,
   "id": "efc873c1-6987-4fee-858e-e4d5ccd6bf87",
   "metadata": {
    "tags": []
   },
   "outputs": [],
   "source": [
    "cases_df = cases_df.withColumn(\"council_district\", col(\"council_district\").cast(\"string\"))"
   ]
  },
  {
   "cell_type": "markdown",
   "id": "55f6a8e9-998b-4c96-ac03-9c07d259c893",
   "metadata": {},
   "source": [
    "## Extract the year from the case_closed_date column."
   ]
  },
  {
   "cell_type": "code",
   "execution_count": 21,
   "id": "1b6692d4-004b-4767-b602-199a9a01811b",
   "metadata": {
    "tags": []
   },
   "outputs": [
    {
     "name": "stderr",
     "output_type": "stream",
     "text": [
      "23/08/23 10:46:23 WARN TaskSetManager: Stage 28 contains a task of very large size (18868 KiB). The maximum recommended task size is 1000 KiB.\n",
      "[Stage 28:>                                                         (0 + 1) / 1]\r"
     ]
    },
    {
     "name": "stdout",
     "output_type": "stream",
     "text": [
      "+----+\n",
      "|year|\n",
      "+----+\n",
      "|2018|\n",
      "|2018|\n",
      "|2018|\n",
      "|2018|\n",
      "|2018|\n",
      "+----+\n",
      "only showing top 5 rows\n",
      "\n"
     ]
    },
    {
     "name": "stderr",
     "output_type": "stream",
     "text": [
      "23/08/23 10:46:27 WARN PythonRunner: Detected deadlock while completing task 0.0 in stage 28 (TID 100): Attempting to kill Python Worker\n",
      "                                                                                \r"
     ]
    }
   ],
   "source": [
    "cases_df = cases_df.withColumn(\"year\", regexp_extract(\"case_closed_date\", r\"\\d{4}\", 0))\n",
    "\n",
    "cases_df.select(\"year\").show(5)"
   ]
  },
  {
   "cell_type": "code",
   "execution_count": 22,
   "id": "8ea84860-d1d7-43cb-bbeb-ba2a2381039a",
   "metadata": {
    "tags": []
   },
   "outputs": [
    {
     "name": "stderr",
     "output_type": "stream",
     "text": [
      "23/08/23 10:46:27 WARN TaskSetManager: Stage 29 contains a task of very large size (18868 KiB). The maximum recommended task size is 1000 KiB.\n",
      "[Stage 29:>                                                         (0 + 8) / 8]\r"
     ]
    },
    {
     "name": "stdout",
     "output_type": "stream",
     "text": [
      "+----+------+\n",
      "|year| count|\n",
      "+----+------+\n",
      "|2018|323370|\n",
      "|2017|518334|\n",
      "+----+------+\n",
      "\n"
     ]
    },
    {
     "name": "stderr",
     "output_type": "stream",
     "text": [
      "                                                                                \r"
     ]
    }
   ],
   "source": [
    "year_counts = cases_df.groupBy(\"year\").count()\n",
    "\n",
    "year_counts.show()"
   ]
  },
  {
   "cell_type": "markdown",
   "id": "7b35e656-8227-4f54-97fd-5490474eb5dd",
   "metadata": {},
   "source": [
    "## Convert num_days_late from days to hours in a new column num_hours_late."
   ]
  },
  {
   "cell_type": "code",
   "execution_count": 23,
   "id": "9aa41e0e-5f9c-4e4e-aaa3-922c5c8d079d",
   "metadata": {
    "tags": []
   },
   "outputs": [],
   "source": [
    "cases_df = cases_df.withColumn(\n",
    "     \"num_hours_late\",\n",
    "    (col(\"num_days_late\") * 24)\n",
    ")"
   ]
  },
  {
   "cell_type": "code",
   "execution_count": 24,
   "id": "8a28d419-3eae-46a5-b29a-cddc48a47dd6",
   "metadata": {
    "tags": []
   },
   "outputs": [
    {
     "data": {
      "text/plain": [
       "DataFrame[num_hours_late: double, count: bigint]"
      ]
     },
     "execution_count": 24,
     "metadata": {},
     "output_type": "execute_result"
    }
   ],
   "source": [
    "cases_df.groupBy('num_hours_late').count()"
   ]
  },
  {
   "cell_type": "code",
   "execution_count": 25,
   "id": "7d68d49e-5df8-4616-be86-96cd17c9fb07",
   "metadata": {
    "tags": []
   },
   "outputs": [
    {
     "name": "stderr",
     "output_type": "stream",
     "text": [
      "23/08/23 10:46:31 WARN TaskSetManager: Stage 32 contains a task of very large size (18868 KiB). The maximum recommended task size is 1000 KiB.\n",
      "[Stage 32:>                                                         (0 + 1) / 1]\r"
     ]
    },
    {
     "name": "stdout",
     "output_type": "stream",
     "text": [
      "+-------------------+\n",
      "|     num_hours_late|\n",
      "+-------------------+\n",
      "|-23964.210278399998|\n",
      "|      -48.302500008|\n",
      "|      -72.536111112|\n",
      "|      -360.27555552|\n",
      "|        8.931944448|\n",
      "+-------------------+\n",
      "only showing top 5 rows\n",
      "\n"
     ]
    },
    {
     "name": "stderr",
     "output_type": "stream",
     "text": [
      "23/08/23 10:46:35 WARN PythonRunner: Detected deadlock while completing task 0.0 in stage 32 (TID 110): Attempting to kill Python Worker\n",
      "                                                                                \r"
     ]
    }
   ],
   "source": [
    "cases_df.select(\"num_hours_late\").show(5)"
   ]
  },
  {
   "cell_type": "markdown",
   "id": "ae1c9f3c-e0ff-4f6a-99cb-05390785fe92",
   "metadata": {},
   "source": [
    "## Join the cases data with the source and department data."
   ]
  },
  {
   "cell_type": "code",
   "execution_count": null,
   "id": "618b1b33-6178-4276-97ff-a9d07af8e9b0",
   "metadata": {},
   "outputs": [],
   "source": []
  },
  {
   "cell_type": "code",
   "execution_count": null,
   "id": "93a69404-812f-4c62-8a5f-8c6e6699d105",
   "metadata": {},
   "outputs": [],
   "source": []
  },
  {
   "cell_type": "code",
   "execution_count": null,
   "id": "d3620774-bc0d-48bb-96ae-68ba8c406c06",
   "metadata": {},
   "outputs": [],
   "source": []
  },
  {
   "cell_type": "markdown",
   "id": "cd0c6329-9369-49e2-a76c-3dbadee0fe29",
   "metadata": {},
   "source": [
    "## Are there any cases that do not have a request source?"
   ]
  },
  {
   "cell_type": "code",
   "execution_count": null,
   "id": "ddd00b52-e564-4ee7-81fe-9377315f80fc",
   "metadata": {},
   "outputs": [],
   "source": []
  },
  {
   "cell_type": "code",
   "execution_count": null,
   "id": "8faaf2b1-c6e8-4eaf-81fd-3087f31bc64f",
   "metadata": {},
   "outputs": [],
   "source": []
  },
  {
   "cell_type": "markdown",
   "id": "f0ff397f-c5e4-4c61-b237-2176dbe4187e",
   "metadata": {},
   "source": [
    "## What are the top 10 service request types in terms of number of requests?"
   ]
  },
  {
   "cell_type": "code",
   "execution_count": null,
   "id": "1895cf10-ef7b-4421-80c4-4f23b86e502a",
   "metadata": {},
   "outputs": [],
   "source": []
  },
  {
   "cell_type": "code",
   "execution_count": null,
   "id": "84116f93-7f0d-43a8-bcc6-48ccc054ad22",
   "metadata": {},
   "outputs": [],
   "source": []
  },
  {
   "cell_type": "code",
   "execution_count": null,
   "id": "8b480247-724b-4c84-868b-9586164cf75a",
   "metadata": {},
   "outputs": [],
   "source": []
  },
  {
   "cell_type": "markdown",
   "id": "77356e34-4b8f-41ff-a156-27f788483d13",
   "metadata": {},
   "source": [
    "## What are the top 10 service request types in terms of average days late?"
   ]
  },
  {
   "cell_type": "code",
   "execution_count": null,
   "id": "5f060d82-875e-46e0-8719-9eaf85f4c487",
   "metadata": {},
   "outputs": [],
   "source": []
  },
  {
   "cell_type": "code",
   "execution_count": null,
   "id": "322d1182-6729-4d6e-b67b-dfae888a0a85",
   "metadata": {},
   "outputs": [],
   "source": []
  },
  {
   "cell_type": "markdown",
   "id": "e2678171-f04c-4162-ba5d-6a459a5937b3",
   "metadata": {},
   "source": [
    "## Does number of days late depend on department? (Answer without the use of a stats test)"
   ]
  },
  {
   "cell_type": "code",
   "execution_count": null,
   "id": "2e676b28-87be-4c80-8a69-13c68b4b106e",
   "metadata": {},
   "outputs": [],
   "source": []
  },
  {
   "cell_type": "code",
   "execution_count": null,
   "id": "288de31e-51a2-4a04-9afe-dc71cb2398e3",
   "metadata": {},
   "outputs": [],
   "source": []
  },
  {
   "cell_type": "markdown",
   "id": "612074dc-a709-4a0e-8e4c-8af68fdd1503",
   "metadata": {},
   "source": [
    "## How do number of days late depend on department and request type?"
   ]
  },
  {
   "cell_type": "code",
   "execution_count": null,
   "id": "496980a5-763d-4218-95d2-7cd0250cdd46",
   "metadata": {},
   "outputs": [],
   "source": []
  },
  {
   "cell_type": "code",
   "execution_count": null,
   "id": "1b8be496-9841-4b23-b430-e602cd8c65c1",
   "metadata": {},
   "outputs": [],
   "source": []
  },
  {
   "cell_type": "code",
   "execution_count": null,
   "id": "d655a8e6-c883-4894-9d16-c35120529139",
   "metadata": {},
   "outputs": [],
   "source": []
  },
  {
   "cell_type": "code",
   "execution_count": null,
   "id": "af6f298d-f2e2-4aae-9f3f-87f90f50743a",
   "metadata": {},
   "outputs": [],
   "source": []
  }
 ],
 "metadata": {
  "kernelspec": {
   "display_name": "Python 3 (ipykernel)",
   "language": "python",
   "name": "python3"
  },
  "language_info": {
   "codemirror_mode": {
    "name": "ipython",
    "version": 3
   },
   "file_extension": ".py",
   "mimetype": "text/x-python",
   "name": "python",
   "nbconvert_exporter": "python",
   "pygments_lexer": "ipython3",
   "version": "3.10.9"
  }
 },
 "nbformat": 4,
 "nbformat_minor": 5
}
