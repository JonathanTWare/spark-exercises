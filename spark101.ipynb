{
 "cells": [
  {
   "cell_type": "code",
   "execution_count": 1,
   "id": "8527fcbd-d6dd-411f-924d-d38f7ee443e9",
   "metadata": {
    "tags": []
   },
   "outputs": [],
   "source": [
    "import pyspark\n",
    "import pyspark.sql.functions as F\n",
    "from pyspark.sql.functions import col,format_number, concat,count, lit, when, regexp_replace, regexp_extract, countDistinct, sum, round,first, avg, month, year\n",
    "from pyspark.sql import SparkSession\n",
    "import pandas as pd\n",
    "import numpy as np\n",
    "from pydataset import data as pydata\n",
    "import warnings\n",
    "warnings.filterwarnings(\"ignore\", category=DeprecationWarning)\n",
    "import seaborn as sns"
   ]
  },
  {
   "cell_type": "markdown",
   "id": "afeefce7-d4c2-443e-86b7-b18175e245bb",
   "metadata": {},
   "source": [
    "## Create a spark data frame that contains your favorite programming languages."
   ]
  },
  {
   "cell_type": "code",
   "execution_count": 2,
   "id": "d696685f-81fc-409d-91af-ab0a1eb4f0da",
   "metadata": {
    "tags": []
   },
   "outputs": [
    {
     "name": "stderr",
     "output_type": "stream",
     "text": [
      "Setting default log level to \"WARN\".\n",
      "To adjust logging level use sc.setLogLevel(newLevel). For SparkR, use setLogLevel(newLevel).\n",
      "23/08/22 12:40:24 WARN NativeCodeLoader: Unable to load native-hadoop library for your platform... using builtin-java classes where applicable\n",
      "23/08/22 12:40:25 WARN Utils: Service 'SparkUI' could not bind on port 4040. Attempting port 4041.\n"
     ]
    },
    {
     "name": "stdout",
     "output_type": "stream",
     "text": [
      "root\n",
      " |-- language: string (nullable = true)\n",
      "\n"
     ]
    },
    {
     "name": "stderr",
     "output_type": "stream",
     "text": [
      "                                                                                \r"
     ]
    },
    {
     "name": "stdout",
     "output_type": "stream",
     "text": [
      "Shape of the DataFrame: 7 rows, 1 columns\n",
      "+----------+\n",
      "|  language|\n",
      "+----------+\n",
      "|    Python|\n",
      "|      Java|\n",
      "|JavaScript|\n",
      "|       C++|\n",
      "|       SQL|\n",
      "+----------+\n",
      "only showing top 5 rows\n",
      "\n"
     ]
    }
   ],
   "source": [
    "spark = SparkSession.builder \\\n",
    "    .appName(\"FavoriteProgrammingLanguages\") \\\n",
    "    .getOrCreate()\n",
    "\n",
    "\n",
    "data = [(\"Python\",),\n",
    "        (\"Java\",),\n",
    "        (\"JavaScript\",),\n",
    "        (\"C++\",),\n",
    "        (\"SQL\",),\n",
    "        (\"C\",),\n",
    "        (\"R\",)]\n",
    "\n",
    "columns = [\"language\"]\n",
    "df = spark.createDataFrame(data, columns)\n",
    "\n",
    "df.printSchema()\n",
    "\n",
    "num_rows = df.count()\n",
    "num_cols = len(df.columns)\n",
    "print(f\"Shape of the DataFrame: {num_rows} rows, {num_cols} columns\")\n",
    "\n",
    "df.show(5)"
   ]
  },
  {
   "cell_type": "markdown",
   "id": "6f887d6e-8de5-4531-986d-852b9fd06794",
   "metadata": {},
   "source": [
    "## The name of the column should be language"
   ]
  },
  {
   "cell_type": "code",
   "execution_count": 3,
   "id": "8186eddf-4013-4da8-83aa-369bb01425a7",
   "metadata": {
    "tags": []
   },
   "outputs": [
    {
     "name": "stdout",
     "output_type": "stream",
     "text": [
      "+----------+\n",
      "|  language|\n",
      "+----------+\n",
      "|    Python|\n",
      "|      Java|\n",
      "|JavaScript|\n",
      "|       C++|\n",
      "|       SQL|\n",
      "|         C|\n",
      "|         R|\n",
      "+----------+\n",
      "\n"
     ]
    }
   ],
   "source": [
    "df.select('language').show()"
   ]
  },
  {
   "cell_type": "markdown",
   "id": "73de0e31-c3de-4f5f-95c0-fc7038868f81",
   "metadata": {},
   "source": [
    "## View the schema of the dataframe"
   ]
  },
  {
   "cell_type": "code",
   "execution_count": 4,
   "id": "b1e9365e-ebc1-48a4-8e7e-cf5726121757",
   "metadata": {
    "tags": []
   },
   "outputs": [
    {
     "name": "stdout",
     "output_type": "stream",
     "text": [
      "root\n",
      " |-- language: string (nullable = true)\n",
      "\n"
     ]
    }
   ],
   "source": [
    "df.printSchema()\n"
   ]
  },
  {
   "cell_type": "markdown",
   "id": "7a69a7cb-fc6a-48b3-a317-edd70f745885",
   "metadata": {},
   "source": [
    "## Output the shape of the dataframe"
   ]
  },
  {
   "cell_type": "code",
   "execution_count": 5,
   "id": "ee579d73-89d9-46da-b6c1-bc7a66c6b8b6",
   "metadata": {
    "tags": []
   },
   "outputs": [],
   "source": [
    "num_rows = df.count()\n",
    "num_cols = len(df.columns)"
   ]
  },
  {
   "cell_type": "code",
   "execution_count": 6,
   "id": "d802c476-06dc-4ad5-824f-478004c31a2f",
   "metadata": {
    "tags": []
   },
   "outputs": [
    {
     "name": "stdout",
     "output_type": "stream",
     "text": [
      "(1,7)\n"
     ]
    }
   ],
   "source": [
    "print(f'({num_cols},{num_rows})')"
   ]
  },
  {
   "cell_type": "markdown",
   "id": "5c2bb105-4998-4ccf-9c07-9ddde1a570ed",
   "metadata": {},
   "source": [
    "## Show the first 5 records in the dataframe"
   ]
  },
  {
   "cell_type": "code",
   "execution_count": 7,
   "id": "cefe910e-856d-45e3-97b0-979800af9c02",
   "metadata": {
    "tags": []
   },
   "outputs": [
    {
     "name": "stdout",
     "output_type": "stream",
     "text": [
      "+----------+\n",
      "|  language|\n",
      "+----------+\n",
      "|    Python|\n",
      "|      Java|\n",
      "|JavaScript|\n",
      "|       C++|\n",
      "|       SQL|\n",
      "+----------+\n",
      "only showing top 5 rows\n",
      "\n"
     ]
    }
   ],
   "source": [
    "df.select('language').show(5)"
   ]
  },
  {
   "cell_type": "markdown",
   "id": "10e8a773-49c5-4755-8c77-2c09d8aa96a9",
   "metadata": {},
   "source": [
    "## Load the mpg dataset as a spark dataframe."
   ]
  },
  {
   "cell_type": "code",
   "execution_count": 8,
   "id": "501d8dba-30a9-4cb9-b36c-c1c12aa8d0ab",
   "metadata": {
    "tags": []
   },
   "outputs": [],
   "source": [
    "mpg = pydata('mpg')"
   ]
  },
  {
   "cell_type": "markdown",
   "id": "c409de91-7dbd-412b-bc6a-544108058ba4",
   "metadata": {},
   "source": [
    "## Create 1 column of output that contains a message like the one below:"
   ]
  },
  {
   "cell_type": "markdown",
   "id": "3bec81fe-dbd2-44e9-8ca5-1e9d3a20d47d",
   "metadata": {},
   "source": [
    "#### \"The 1999 audi a4 has a 4 cylinder engine.\""
   ]
  },
  {
   "cell_type": "markdown",
   "id": "ec91d492-0889-4f50-a8af-98995dee84f9",
   "metadata": {},
   "source": [
    "### For each vehicle."
   ]
  },
  {
   "cell_type": "code",
   "execution_count": 9,
   "id": "7cff0f3e-7f2f-44c4-9bd0-72f5bc4b54dd",
   "metadata": {
    "tags": []
   },
   "outputs": [
    {
     "name": "stdout",
     "output_type": "stream",
     "text": [
      "+------------+------------------+-----+----+---+----------+---+---+---+---+-------+---------------------------------------------------------+\n",
      "|manufacturer|model             |displ|year|cyl|trans     |drv|cty|hwy|fl |class  |message                                                  |\n",
      "+------------+------------------+-----+----+---+----------+---+---+---+---+-------+---------------------------------------------------------+\n",
      "|audi        |a4                |1.8  |1999|4  |auto(l5)  |f  |18 |29 |p  |compact|The audi a4 has a 4 cylinder engine.                     |\n",
      "|audi        |a4                |1.8  |1999|4  |manual(m5)|f  |21 |29 |p  |compact|The audi a4 has a 4 cylinder engine.                     |\n",
      "|audi        |a4                |2.0  |2008|4  |manual(m6)|f  |20 |31 |p  |compact|The audi a4 has a 4 cylinder engine.                     |\n",
      "|audi        |a4                |2.0  |2008|4  |auto(av)  |f  |21 |30 |p  |compact|The audi a4 has a 4 cylinder engine.                     |\n",
      "|audi        |a4                |2.8  |1999|6  |auto(l5)  |f  |16 |26 |p  |compact|The audi a4 has a 6 cylinder engine.                     |\n",
      "|audi        |a4                |2.8  |1999|6  |manual(m5)|f  |18 |26 |p  |compact|The audi a4 has a 6 cylinder engine.                     |\n",
      "|audi        |a4                |3.1  |2008|6  |auto(av)  |f  |18 |27 |p  |compact|The audi a4 has a 6 cylinder engine.                     |\n",
      "|audi        |a4 quattro        |1.8  |1999|4  |manual(m5)|4  |18 |26 |p  |compact|The audi a4 quattro has a 4 cylinder engine.             |\n",
      "|audi        |a4 quattro        |1.8  |1999|4  |auto(l5)  |4  |16 |25 |p  |compact|The audi a4 quattro has a 4 cylinder engine.             |\n",
      "|audi        |a4 quattro        |2.0  |2008|4  |manual(m6)|4  |20 |28 |p  |compact|The audi a4 quattro has a 4 cylinder engine.             |\n",
      "|audi        |a4 quattro        |2.0  |2008|4  |auto(s6)  |4  |19 |27 |p  |compact|The audi a4 quattro has a 4 cylinder engine.             |\n",
      "|audi        |a4 quattro        |2.8  |1999|6  |auto(l5)  |4  |15 |25 |p  |compact|The audi a4 quattro has a 6 cylinder engine.             |\n",
      "|audi        |a4 quattro        |2.8  |1999|6  |manual(m5)|4  |17 |25 |p  |compact|The audi a4 quattro has a 6 cylinder engine.             |\n",
      "|audi        |a4 quattro        |3.1  |2008|6  |auto(s6)  |4  |17 |25 |p  |compact|The audi a4 quattro has a 6 cylinder engine.             |\n",
      "|audi        |a4 quattro        |3.1  |2008|6  |manual(m6)|4  |15 |25 |p  |compact|The audi a4 quattro has a 6 cylinder engine.             |\n",
      "|audi        |a6 quattro        |2.8  |1999|6  |auto(l5)  |4  |15 |24 |p  |midsize|The audi a6 quattro has a 6 cylinder engine.             |\n",
      "|audi        |a6 quattro        |3.1  |2008|6  |auto(s6)  |4  |17 |25 |p  |midsize|The audi a6 quattro has a 6 cylinder engine.             |\n",
      "|audi        |a6 quattro        |4.2  |2008|8  |auto(s6)  |4  |16 |23 |p  |midsize|The audi a6 quattro has a 8 cylinder engine.             |\n",
      "|chevrolet   |c1500 suburban 2wd|5.3  |2008|8  |auto(l4)  |r  |14 |20 |r  |suv    |The chevrolet c1500 suburban 2wd has a 8 cylinder engine.|\n",
      "|chevrolet   |c1500 suburban 2wd|5.3  |2008|8  |auto(l4)  |r  |11 |15 |e  |suv    |The chevrolet c1500 suburban 2wd has a 8 cylinder engine.|\n",
      "+------------+------------------+-----+----+---+----------+---+---+---+---+-------+---------------------------------------------------------+\n",
      "only showing top 20 rows\n",
      "\n"
     ]
    }
   ],
   "source": [
    "spark_mpg_df = spark.createDataFrame(mpg)\n",
    "\n",
    "spark_mpg_df = spark_mpg_df.withColumn(\n",
    "    \"message\",\n",
    "    concat(\n",
    "        lit(\"The \"),\n",
    "        col(\"manufacturer\"), lit(\" \"),\n",
    "        col(\"model\"), lit(\" has a \"),\n",
    "        col(\"cyl\"), lit(\" cylinder engine.\")\n",
    "    )\n",
    ")\n",
    "\n",
    "spark_mpg_df.show(truncate=False)\n",
    "\n",
    "\n"
   ]
  },
  {
   "cell_type": "markdown",
   "id": "41651c3c-2ce5-412d-8823-5fdc58d05cef",
   "metadata": {},
   "source": [
    "## Transform the trans column so that it only contains either manual or auto."
   ]
  },
  {
   "cell_type": "code",
   "execution_count": 10,
   "id": "010dbdcf-51ca-456f-959e-60a353fefb81",
   "metadata": {
    "tags": []
   },
   "outputs": [],
   "source": [
    "transformed_df = spark_mpg_df.withColumn(\n",
    "    \"trans\",\n",
    "    regexp_extract(col(\"trans\"), r\"(\\w+)\", 1)\n",
    ")\n"
   ]
  },
  {
   "cell_type": "code",
   "execution_count": 11,
   "id": "56354f50-b851-4860-8284-ad2883eab182",
   "metadata": {
    "tags": []
   },
   "outputs": [
    {
     "name": "stdout",
     "output_type": "stream",
     "text": [
      "+------------+------------------+-----+----+---+------+---+---+---+---+-------+--------------------+\n",
      "|manufacturer|             model|displ|year|cyl| trans|drv|cty|hwy| fl|  class|             message|\n",
      "+------------+------------------+-----+----+---+------+---+---+---+---+-------+--------------------+\n",
      "|        audi|                a4|  1.8|1999|  4|  auto|  f| 18| 29|  p|compact|The audi a4 has a...|\n",
      "|        audi|                a4|  1.8|1999|  4|manual|  f| 21| 29|  p|compact|The audi a4 has a...|\n",
      "|        audi|                a4|  2.0|2008|  4|manual|  f| 20| 31|  p|compact|The audi a4 has a...|\n",
      "|        audi|                a4|  2.0|2008|  4|  auto|  f| 21| 30|  p|compact|The audi a4 has a...|\n",
      "|        audi|                a4|  2.8|1999|  6|  auto|  f| 16| 26|  p|compact|The audi a4 has a...|\n",
      "|        audi|                a4|  2.8|1999|  6|manual|  f| 18| 26|  p|compact|The audi a4 has a...|\n",
      "|        audi|                a4|  3.1|2008|  6|  auto|  f| 18| 27|  p|compact|The audi a4 has a...|\n",
      "|        audi|        a4 quattro|  1.8|1999|  4|manual|  4| 18| 26|  p|compact|The audi a4 quatt...|\n",
      "|        audi|        a4 quattro|  1.8|1999|  4|  auto|  4| 16| 25|  p|compact|The audi a4 quatt...|\n",
      "|        audi|        a4 quattro|  2.0|2008|  4|manual|  4| 20| 28|  p|compact|The audi a4 quatt...|\n",
      "|        audi|        a4 quattro|  2.0|2008|  4|  auto|  4| 19| 27|  p|compact|The audi a4 quatt...|\n",
      "|        audi|        a4 quattro|  2.8|1999|  6|  auto|  4| 15| 25|  p|compact|The audi a4 quatt...|\n",
      "|        audi|        a4 quattro|  2.8|1999|  6|manual|  4| 17| 25|  p|compact|The audi a4 quatt...|\n",
      "|        audi|        a4 quattro|  3.1|2008|  6|  auto|  4| 17| 25|  p|compact|The audi a4 quatt...|\n",
      "|        audi|        a4 quattro|  3.1|2008|  6|manual|  4| 15| 25|  p|compact|The audi a4 quatt...|\n",
      "|        audi|        a6 quattro|  2.8|1999|  6|  auto|  4| 15| 24|  p|midsize|The audi a6 quatt...|\n",
      "|        audi|        a6 quattro|  3.1|2008|  6|  auto|  4| 17| 25|  p|midsize|The audi a6 quatt...|\n",
      "|        audi|        a6 quattro|  4.2|2008|  8|  auto|  4| 16| 23|  p|midsize|The audi a6 quatt...|\n",
      "|   chevrolet|c1500 suburban 2wd|  5.3|2008|  8|  auto|  r| 14| 20|  r|    suv|The chevrolet c15...|\n",
      "|   chevrolet|c1500 suburban 2wd|  5.3|2008|  8|  auto|  r| 11| 15|  e|    suv|The chevrolet c15...|\n",
      "+------------+------------------+-----+----+---+------+---+---+---+---+-------+--------------------+\n",
      "only showing top 20 rows\n",
      "\n"
     ]
    }
   ],
   "source": [
    "transformed_df.show()"
   ]
  },
  {
   "cell_type": "markdown",
   "id": "566393af-a366-47d6-b4c9-3b10f176ca86",
   "metadata": {},
   "source": [
    "## Load the tips dataset as a spark dataframe."
   ]
  },
  {
   "cell_type": "code",
   "execution_count": 12,
   "id": "fadc41d6-4c6c-4ced-aa81-13b0c8fe0195",
   "metadata": {
    "tags": []
   },
   "outputs": [],
   "source": [
    "tips = pydata('tips')"
   ]
  },
  {
   "cell_type": "markdown",
   "id": "cb0e4981-1a1b-4ce8-b48a-ad5382f53621",
   "metadata": {},
   "source": [
    "## What percentage of observations are smokers?"
   ]
  },
  {
   "cell_type": "code",
   "execution_count": 13,
   "id": "97407933-0fca-4be3-b538-84bfad6e27a0",
   "metadata": {
    "tags": []
   },
   "outputs": [],
   "source": [
    "tips_df = spark.createDataFrame(tips)"
   ]
  },
  {
   "cell_type": "code",
   "execution_count": 14,
   "id": "b61928cb-f057-4076-ac78-16365c2e6a0b",
   "metadata": {
    "tags": []
   },
   "outputs": [
    {
     "name": "stdout",
     "output_type": "stream",
     "text": [
      "+----------+----+------+------+---+------+----+\n",
      "|total_bill| tip|   sex|smoker|day|  time|size|\n",
      "+----------+----+------+------+---+------+----+\n",
      "|     16.99|1.01|Female|    No|Sun|Dinner|   2|\n",
      "|     10.34|1.66|  Male|    No|Sun|Dinner|   3|\n",
      "|     21.01| 3.5|  Male|    No|Sun|Dinner|   3|\n",
      "|     23.68|3.31|  Male|    No|Sun|Dinner|   2|\n",
      "|     24.59|3.61|Female|    No|Sun|Dinner|   4|\n",
      "+----------+----+------+------+---+------+----+\n",
      "only showing top 5 rows\n",
      "\n"
     ]
    }
   ],
   "source": [
    "tips_df.show(5)"
   ]
  },
  {
   "cell_type": "code",
   "execution_count": 15,
   "id": "e761d34a-c74d-41d8-b020-2a39c859bdb6",
   "metadata": {
    "tags": []
   },
   "outputs": [
    {
     "name": "stderr",
     "output_type": "stream",
     "text": [
      "[Stage 18:>                                                         (0 + 8) / 8]\r"
     ]
    },
    {
     "name": "stdout",
     "output_type": "stream",
     "text": [
      "+------+-----+\n",
      "|smoker|count|\n",
      "+------+-----+\n",
      "|    No|  151|\n",
      "|   Yes|   93|\n",
      "+------+-----+\n",
      "\n"
     ]
    },
    {
     "name": "stderr",
     "output_type": "stream",
     "text": [
      "                                                                                \r"
     ]
    }
   ],
   "source": [
    "smoker_counts = tips_df.groupBy('smoker').count().show()"
   ]
  },
  {
   "cell_type": "code",
   "execution_count": 16,
   "id": "92204811-72a8-468b-8052-027f0bc7d78a",
   "metadata": {
    "tags": []
   },
   "outputs": [],
   "source": [
    "total_count = tips_df.count()"
   ]
  },
  {
   "cell_type": "code",
   "execution_count": 17,
   "id": "880c4d53-69c7-4d5e-a743-b048dc94716a",
   "metadata": {
    "tags": []
   },
   "outputs": [
    {
     "data": {
      "text/plain": [
       "244"
      ]
     },
     "execution_count": 17,
     "metadata": {},
     "output_type": "execute_result"
    }
   ],
   "source": [
    "total_count"
   ]
  },
  {
   "cell_type": "code",
   "execution_count": 18,
   "id": "d79afb62-8394-4ef9-ab47-2fe29b22c8d5",
   "metadata": {
    "tags": []
   },
   "outputs": [],
   "source": [
    "smoker_count = tips_df.filter(col(\"smoker\") == \"Yes\").count()\n",
    "\n",
    "smoker_percentage = (smoker_count / total_count) * 100"
   ]
  },
  {
   "cell_type": "code",
   "execution_count": 19,
   "id": "3a72ad3f-8815-45cc-9371-49b851da95bb",
   "metadata": {
    "tags": []
   },
   "outputs": [
    {
     "data": {
      "text/plain": [
       "38.114754098360656"
      ]
     },
     "execution_count": 19,
     "metadata": {},
     "output_type": "execute_result"
    }
   ],
   "source": [
    "smoker_percentage"
   ]
  },
  {
   "cell_type": "markdown",
   "id": "d468109a-2161-4434-8364-4d58229706a5",
   "metadata": {},
   "source": [
    "## Create a column that contains the tip percentage"
   ]
  },
  {
   "cell_type": "code",
   "execution_count": 20,
   "id": "7db8ff9f-7b03-499c-bfc5-3589b3e9d3f6",
   "metadata": {
    "tags": []
   },
   "outputs": [],
   "source": [
    "tips_df = tips_df.withColumn(\n",
    "     \"tip_percentage\",\n",
    "    round((col(\"tip\") / col(\"total_bill\")) * 100,2)\n",
    ")\n",
    "\n"
   ]
  },
  {
   "cell_type": "code",
   "execution_count": 21,
   "id": "6cee3ca6-6bf7-48d4-8b47-58614b544b42",
   "metadata": {
    "tags": []
   },
   "outputs": [
    {
     "name": "stdout",
     "output_type": "stream",
     "text": [
      "+----------+----+------+------+---+------+----+--------------+\n",
      "|total_bill| tip|   sex|smoker|day|  time|size|tip_percentage|\n",
      "+----------+----+------+------+---+------+----+--------------+\n",
      "|     16.99|1.01|Female|    No|Sun|Dinner|   2|          5.94|\n",
      "|     10.34|1.66|  Male|    No|Sun|Dinner|   3|         16.05|\n",
      "|     21.01| 3.5|  Male|    No|Sun|Dinner|   3|         16.66|\n",
      "|     23.68|3.31|  Male|    No|Sun|Dinner|   2|         13.98|\n",
      "|     24.59|3.61|Female|    No|Sun|Dinner|   4|         14.68|\n",
      "+----------+----+------+------+---+------+----+--------------+\n",
      "only showing top 5 rows\n",
      "\n"
     ]
    }
   ],
   "source": [
    "tips_df.show(5)"
   ]
  },
  {
   "cell_type": "markdown",
   "id": "091b63c9-4ce7-4b7c-96b3-9102c6dc9158",
   "metadata": {},
   "source": [
    "## Calculate the average tip percentage for each combination of sex and smoker."
   ]
  },
  {
   "cell_type": "code",
   "execution_count": 22,
   "id": "7a7011d3-4504-4d84-b107-eca76054d4aa",
   "metadata": {
    "tags": []
   },
   "outputs": [
    {
     "name": "stdout",
     "output_type": "stream",
     "text": [
      "+------+------+------------------+\n",
      "|sex   |smoker|avg_tip_percentage|\n",
      "+------+------+------------------+\n",
      "|Male  |No    |16.06659793814433 |\n",
      "|Female|No    |15.69111111111111 |\n",
      "|Male  |Yes   |15.276666666666667|\n",
      "|Female|Yes   |18.214545454545455|\n",
      "+------+------+------------------+\n",
      "\n"
     ]
    },
    {
     "name": "stderr",
     "output_type": "stream",
     "text": [
      "                                                                                \r"
     ]
    }
   ],
   "source": [
    "average_tip_percentage_df = tips_df.groupBy(\"sex\", \"smoker\").agg(avg(\"tip_percentage\").alias(\"avg_tip_percentage\"))\n",
    "\n",
    "average_tip_percentage_df.show(truncate=False)"
   ]
  },
  {
   "cell_type": "markdown",
   "id": "bc7e4af7-fc83-492b-9cf8-0ee11e12789c",
   "metadata": {},
   "source": [
    "## Use the seattle weather dataset referenced in the lesson to answer the questions below."
   ]
  },
  {
   "cell_type": "code",
   "execution_count": 23,
   "id": "55fa1f13-8355-4324-9339-7ba956581599",
   "metadata": {
    "tags": []
   },
   "outputs": [],
   "source": [
    "from vega_datasets import data\n",
    "\n",
    "weather = data.seattle_weather().assign(date=lambda df: df.date.astype(str))\n",
    "weather = spark.createDataFrame(weather)"
   ]
  },
  {
   "cell_type": "code",
   "execution_count": 24,
   "id": "e09073d4-fc61-43e4-bcc1-7f066fcef577",
   "metadata": {
    "tags": []
   },
   "outputs": [
    {
     "name": "stdout",
     "output_type": "stream",
     "text": [
      "+----------+-------------+--------+--------+----+-------+\n",
      "|      date|precipitation|temp_max|temp_min|wind|weather|\n",
      "+----------+-------------+--------+--------+----+-------+\n",
      "|2012-01-01|          0.0|    12.8|     5.0| 4.7|drizzle|\n",
      "|2012-01-02|         10.9|    10.6|     2.8| 4.5|   rain|\n",
      "|2012-01-03|          0.8|    11.7|     7.2| 2.3|   rain|\n",
      "|2012-01-04|         20.3|    12.2|     5.6| 4.7|   rain|\n",
      "|2012-01-05|          1.3|     8.9|     2.8| 6.1|   rain|\n",
      "+----------+-------------+--------+--------+----+-------+\n",
      "only showing top 5 rows\n",
      "\n"
     ]
    }
   ],
   "source": [
    "weather.show(5)"
   ]
  },
  {
   "cell_type": "markdown",
   "id": "996f5faf-27bc-479c-8f4f-815f2d2e6b11",
   "metadata": {},
   "source": [
    "## Convert the temperatures to fahrenheit."
   ]
  },
  {
   "cell_type": "code",
   "execution_count": 25,
   "id": "0efea272-8262-4721-a8e1-e3b5c934c440",
   "metadata": {
    "tags": []
   },
   "outputs": [],
   "source": [
    "weather = weather.withColumn(\n",
    "     \"f_max\",\n",
    "    round((col(\"temp_max\") * 1.8 + 32),2)\n",
    ")\n"
   ]
  },
  {
   "cell_type": "code",
   "execution_count": 26,
   "id": "1577f1a8-ab8f-4490-89bb-34523e9a3f44",
   "metadata": {
    "tags": []
   },
   "outputs": [],
   "source": [
    "weather = weather.withColumn(\n",
    "     \"f_min\",\n",
    "    round((col(\"temp_min\") * 1.8 + 32),2)\n",
    ")\n"
   ]
  },
  {
   "cell_type": "code",
   "execution_count": 27,
   "id": "e83c9d8d-8081-461a-bb5b-2219da632a3f",
   "metadata": {
    "tags": []
   },
   "outputs": [
    {
     "name": "stdout",
     "output_type": "stream",
     "text": [
      "+----------+-------------+--------+--------+----+-------+-----+-----+\n",
      "|      date|precipitation|temp_max|temp_min|wind|weather|f_max|f_min|\n",
      "+----------+-------------+--------+--------+----+-------+-----+-----+\n",
      "|2012-01-01|          0.0|    12.8|     5.0| 4.7|drizzle|55.04| 41.0|\n",
      "|2012-01-02|         10.9|    10.6|     2.8| 4.5|   rain|51.08|37.04|\n",
      "|2012-01-03|          0.8|    11.7|     7.2| 2.3|   rain|53.06|44.96|\n",
      "|2012-01-04|         20.3|    12.2|     5.6| 4.7|   rain|53.96|42.08|\n",
      "|2012-01-05|          1.3|     8.9|     2.8| 6.1|   rain|48.02|37.04|\n",
      "+----------+-------------+--------+--------+----+-------+-----+-----+\n",
      "only showing top 5 rows\n",
      "\n"
     ]
    }
   ],
   "source": [
    "weather.show(5)"
   ]
  },
  {
   "cell_type": "markdown",
   "id": "b86231b6-b8ff-4708-a354-bb8f22b63ac2",
   "metadata": {},
   "source": [
    "## Which month has the most rain, on average?"
   ]
  },
  {
   "cell_type": "code",
   "execution_count": 28,
   "id": "b3b69b82-e3bd-4d54-a41f-f4ee0f2cde17",
   "metadata": {
    "tags": []
   },
   "outputs": [],
   "source": [
    "average_rain_by_month_df = weather.groupBy(month(\"date\").alias(\"month\")) \\\n",
    "    .agg(avg(\"precipitation\").alias(\"avg_precipitation\"))\n",
    "\n",
    "\n",
    "most_rain_month = average_rain_by_month_df.orderBy(col(\"avg_precipitation\").desc()).first()\n"
   ]
  },
  {
   "cell_type": "code",
   "execution_count": 29,
   "id": "860dc4aa-2f30-46a6-9e5c-815ca748c743",
   "metadata": {
    "tags": []
   },
   "outputs": [
    {
     "name": "stdout",
     "output_type": "stream",
     "text": [
      "+-----+-------------------+\n",
      "|month|  avg_precipitation|\n",
      "+-----+-------------------+\n",
      "|    1| 3.7580645161290316|\n",
      "|    6| 1.1075000000000002|\n",
      "|    3|  4.888709677419355|\n",
      "|    5| 1.6733870967741935|\n",
      "|    4|  3.128333333333333|\n",
      "|    2|  3.734513274336283|\n",
      "|   12|  5.021774193548389|\n",
      "|    9| 1.9624999999999997|\n",
      "|    8| 1.3201612903225806|\n",
      "|    7|0.38870967741935486|\n",
      "|   10|  4.059677419354839|\n",
      "|   11|  5.354166666666667|\n",
      "+-----+-------------------+\n",
      "\n"
     ]
    }
   ],
   "source": [
    "average_rain_by_month_df.show(13)"
   ]
  },
  {
   "cell_type": "code",
   "execution_count": 30,
   "id": "b78c6952-3874-4730-94fe-1d508c8759d3",
   "metadata": {
    "tags": []
   },
   "outputs": [
    {
     "data": {
      "text/plain": [
       "Row(month=11, avg_precipitation=5.354166666666667)"
      ]
     },
     "execution_count": 30,
     "metadata": {},
     "output_type": "execute_result"
    }
   ],
   "source": [
    "most_rain_month"
   ]
  },
  {
   "cell_type": "markdown",
   "id": "4757ca49-9f8d-4c92-9840-b2e08c9a0afe",
   "metadata": {},
   "source": [
    "## Which year was the windiest?"
   ]
  },
  {
   "cell_type": "code",
   "execution_count": 31,
   "id": "27043d6c-cd56-4337-8363-252439ea274a",
   "metadata": {
    "tags": []
   },
   "outputs": [],
   "source": [
    "average_wind_by_year_df = weather.groupBy(year(\"date\").alias(\"year\")) \\\n",
    "    .agg(avg(\"wind\").alias(\"avg_wind\"))"
   ]
  },
  {
   "cell_type": "code",
   "execution_count": 32,
   "id": "2b76c78a-d98a-4ba6-b5c7-374f711294c5",
   "metadata": {
    "tags": []
   },
   "outputs": [],
   "source": [
    "most_windy_month = average_wind_by_year_df.orderBy(col(\"avg_wind\").desc()).first()"
   ]
  },
  {
   "cell_type": "code",
   "execution_count": 33,
   "id": "8b29a90f-eb51-4a16-82c1-35ded5d230ef",
   "metadata": {
    "tags": []
   },
   "outputs": [
    {
     "name": "stdout",
     "output_type": "stream",
     "text": [
      "+----+------------------+\n",
      "|year|          avg_wind|\n",
      "+----+------------------+\n",
      "|2012| 3.400819672131148|\n",
      "|2013|3.0158904109589058|\n",
      "|2014| 3.387671232876714|\n",
      "|2015| 3.159726027397261|\n",
      "+----+------------------+\n",
      "\n"
     ]
    }
   ],
   "source": [
    "average_wind_by_year_df.show()"
   ]
  },
  {
   "cell_type": "code",
   "execution_count": 34,
   "id": "f24f7429-2b00-4507-ac67-b80e11fa41ca",
   "metadata": {
    "tags": []
   },
   "outputs": [
    {
     "data": {
      "text/plain": [
       "Row(year=2012, avg_wind=3.400819672131148)"
      ]
     },
     "execution_count": 34,
     "metadata": {},
     "output_type": "execute_result"
    }
   ],
   "source": [
    "most_windy_month"
   ]
  },
  {
   "cell_type": "markdown",
   "id": "083b7498-0449-4c04-a6ac-cda55891ed35",
   "metadata": {},
   "source": [
    "## What is the most frequent type of weather in January?"
   ]
  },
  {
   "cell_type": "code",
   "execution_count": 35,
   "id": "30b57c04-0a8b-4962-9c92-0870e87d50ae",
   "metadata": {
    "tags": []
   },
   "outputs": [],
   "source": [
    "january_weather_df = weather.filter(month('date') == 1)"
   ]
  },
  {
   "cell_type": "code",
   "execution_count": 36,
   "id": "a04d9e7c-44ae-4c37-acdb-d60f5fe10d02",
   "metadata": {
    "tags": []
   },
   "outputs": [],
   "source": [
    "january_weather_counts = weather.groupBy('weather') \\\n",
    "    .count()\n",
    "\n",
    "\n",
    "most_frequent_weather_january = january_weather_counts.orderBy(col(\"count\").desc()).first()\n",
    "\n"
   ]
  },
  {
   "cell_type": "code",
   "execution_count": 37,
   "id": "19cc66b4-d1c5-42eb-9a4d-4523dd3cb7c5",
   "metadata": {
    "tags": []
   },
   "outputs": [
    {
     "name": "stdout",
     "output_type": "stream",
     "text": [
      "+----------+-------------+--------+--------+----+-------+-----+-----+\n",
      "|      date|precipitation|temp_max|temp_min|wind|weather|f_max|f_min|\n",
      "+----------+-------------+--------+--------+----+-------+-----+-----+\n",
      "|2012-01-01|          0.0|    12.8|     5.0| 4.7|drizzle|55.04| 41.0|\n",
      "|2012-01-02|         10.9|    10.6|     2.8| 4.5|   rain|51.08|37.04|\n",
      "|2012-01-03|          0.8|    11.7|     7.2| 2.3|   rain|53.06|44.96|\n",
      "|2012-01-04|         20.3|    12.2|     5.6| 4.7|   rain|53.96|42.08|\n",
      "|2012-01-05|          1.3|     8.9|     2.8| 6.1|   rain|48.02|37.04|\n",
      "|2012-01-06|          2.5|     4.4|     2.2| 2.2|   rain|39.92|35.96|\n",
      "|2012-01-07|          0.0|     7.2|     2.8| 2.3|   rain|44.96|37.04|\n",
      "|2012-01-08|          0.0|    10.0|     2.8| 2.0|    sun| 50.0|37.04|\n",
      "|2012-01-09|          4.3|     9.4|     5.0| 3.4|   rain|48.92| 41.0|\n",
      "|2012-01-10|          1.0|     6.1|     0.6| 3.4|   rain|42.98|33.08|\n",
      "|2012-01-11|          0.0|     6.1|    -1.1| 5.1|    sun|42.98|30.02|\n",
      "|2012-01-12|          0.0|     6.1|    -1.7| 1.9|    sun|42.98|28.94|\n",
      "|2012-01-13|          0.0|     5.0|    -2.8| 1.3|    sun| 41.0|26.96|\n",
      "|2012-01-14|          4.1|     4.4|     0.6| 5.3|   snow|39.92|33.08|\n",
      "|2012-01-15|          5.3|     1.1|    -3.3| 3.2|   snow|33.98|26.06|\n",
      "|2012-01-16|          2.5|     1.7|    -2.8| 5.0|   snow|35.06|26.96|\n",
      "|2012-01-17|          8.1|     3.3|     0.0| 5.6|   snow|37.94| 32.0|\n",
      "|2012-01-18|         19.8|     0.0|    -2.8| 5.0|   snow| 32.0|26.96|\n",
      "|2012-01-19|         15.2|    -1.1|    -2.8| 1.6|   snow|30.02|26.96|\n",
      "|2012-01-20|         13.5|     7.2|    -1.1| 2.3|   snow|44.96|30.02|\n",
      "+----------+-------------+--------+--------+----+-------+-----+-----+\n",
      "only showing top 20 rows\n",
      "\n"
     ]
    }
   ],
   "source": [
    "january_weather_df.show()"
   ]
  },
  {
   "cell_type": "code",
   "execution_count": 38,
   "id": "a51ea74c-24e9-4456-9b57-60f239d563e2",
   "metadata": {
    "tags": []
   },
   "outputs": [
    {
     "name": "stdout",
     "output_type": "stream",
     "text": [
      "+-------+-----+\n",
      "|weather|count|\n",
      "+-------+-----+\n",
      "|drizzle|   54|\n",
      "|   rain|  259|\n",
      "|    sun|  714|\n",
      "|   snow|   23|\n",
      "|    fog|  411|\n",
      "+-------+-----+\n",
      "\n"
     ]
    }
   ],
   "source": [
    "january_weather_counts.show()"
   ]
  },
  {
   "cell_type": "markdown",
   "id": "ef92a1df-4abc-4073-aa89-dcb6afe78ff0",
   "metadata": {},
   "source": [
    "## What is the average high and low temperature on sunny days in July in 2013 and 2014?"
   ]
  },
  {
   "cell_type": "code",
   "execution_count": 39,
   "id": "7186a075-ced0-4c2a-88d1-f618e8a37b5e",
   "metadata": {
    "tags": []
   },
   "outputs": [],
   "source": [
    "july_2013_2014_df = weather.filter((month('date') == 7) & (year('date').isin([2013, 2014])) & (col('weather') == 'sun')\n",
    ")"
   ]
  },
  {
   "cell_type": "code",
   "execution_count": 40,
   "id": "1f9701c8-6ab7-4063-90cd-e9162901b922",
   "metadata": {
    "tags": []
   },
   "outputs": [
    {
     "name": "stdout",
     "output_type": "stream",
     "text": [
      "+----------+-------------+--------+--------+----+-------+-----+-----+\n",
      "|      date|precipitation|temp_max|temp_min|wind|weather|f_max|f_min|\n",
      "+----------+-------------+--------+--------+----+-------+-----+-----+\n",
      "|2013-07-01|          0.0|    31.7|    18.3| 2.3|    sun|89.06|64.94|\n",
      "|2013-07-02|          0.0|    28.3|    15.6| 3.0|    sun|82.94|60.08|\n",
      "|2013-07-03|          0.0|    26.1|    16.7| 3.2|    sun|78.98|62.06|\n",
      "|2013-07-05|          0.0|    23.3|    13.9| 2.6|    sun|73.94|57.02|\n",
      "|2013-07-06|          0.0|    26.1|    13.3| 2.2|    sun|78.98|55.94|\n",
      "+----------+-------------+--------+--------+----+-------+-----+-----+\n",
      "only showing top 5 rows\n",
      "\n"
     ]
    }
   ],
   "source": [
    "july_2013_2014_df.show(5)"
   ]
  },
  {
   "cell_type": "code",
   "execution_count": 41,
   "id": "87deb4d4-6474-4a34-a908-44005c219f7b",
   "metadata": {
    "tags": []
   },
   "outputs": [],
   "source": [
    "average_high_temp_df = july_2013_2014_df.groupBy(year('date').alias(\"year\")) \\\n",
    "    .agg(avg(\"temp_max\").alias(\"avg_high_temp\"))"
   ]
  },
  {
   "cell_type": "code",
   "execution_count": 42,
   "id": "7b7d84c6-0456-40cf-a699-e88104cd4fc1",
   "metadata": {
    "tags": []
   },
   "outputs": [
    {
     "name": "stdout",
     "output_type": "stream",
     "text": [
      "+----+------------------+\n",
      "|year|     avg_high_temp|\n",
      "+----+------------------+\n",
      "|2013|26.585185185185193|\n",
      "|2014|            27.092|\n",
      "+----+------------------+\n",
      "\n"
     ]
    }
   ],
   "source": [
    "average_high_temp_df.show()"
   ]
  },
  {
   "cell_type": "markdown",
   "id": "66b833eb-ee6e-4252-bcbb-0b5a2c8e1e83",
   "metadata": {},
   "source": [
    "## What percentage of days were rainy in q3 of 2015?"
   ]
  },
  {
   "cell_type": "code",
   "execution_count": 43,
   "id": "9329a062-0c97-4a6a-bf7b-feaa191fda2d",
   "metadata": {
    "tags": []
   },
   "outputs": [],
   "source": [
    "q3_df = weather.filter((year('date') == 2015) & (month('date').isin([9,10,11,12])))\n"
   ]
  },
  {
   "cell_type": "code",
   "execution_count": 44,
   "id": "0faeeceb-afc0-44af-a320-641b7b5f45e3",
   "metadata": {
    "tags": []
   },
   "outputs": [
    {
     "name": "stdout",
     "output_type": "stream",
     "text": [
      "+----------+-------------+--------+--------+----+-------+-----+-----+\n",
      "|      date|precipitation|temp_max|temp_min|wind|weather|f_max|f_min|\n",
      "+----------+-------------+--------+--------+----+-------+-----+-----+\n",
      "|2015-09-01|          5.8|    19.4|    13.9| 5.0|    fog|66.92|57.02|\n",
      "|2015-09-02|          0.0|    19.4|    11.1| 3.8|    sun|66.92|51.98|\n",
      "|2015-09-03|          0.0|    18.3|    10.6| 2.9|    sun|64.94|51.08|\n",
      "|2015-09-04|          0.0|    18.3|    10.0| 2.9|    sun|64.94| 50.0|\n",
      "|2015-09-05|          0.3|    20.6|     8.9| 3.5|    sun|69.08|48.02|\n",
      "|2015-09-06|          5.3|    16.1|    11.7| 2.4|    fog|60.98|53.06|\n",
      "|2015-09-07|          0.3|    21.1|    13.3| 1.5|    fog|69.98|55.94|\n",
      "|2015-09-08|          0.0|    22.8|    13.3| 2.4|    sun|73.04|55.94|\n",
      "|2015-09-09|          0.0|    24.4|    13.9| 3.3|    sun|75.92|57.02|\n",
      "|2015-09-10|          0.0|    25.0|    14.4| 3.6|    fog| 77.0|57.92|\n",
      "|2015-09-11|          0.0|    27.2|    15.0| 3.1|    sun|80.96| 59.0|\n",
      "|2015-09-12|          0.0|    26.7|    14.4| 2.1|    sun|80.06|57.92|\n",
      "|2015-09-13|          0.5|    20.6|    12.8| 3.0|    fog|69.08|55.04|\n",
      "|2015-09-14|          0.0|    16.7|    10.6| 3.4|    sun|62.06|51.08|\n",
      "|2015-09-15|          0.0|    17.8|    10.0| 2.8|    sun|64.04| 50.0|\n",
      "|2015-09-16|          1.0|    20.0|    10.0| 1.9|    sun| 68.0| 50.0|\n",
      "|2015-09-17|          1.8|    18.3|    12.8| 3.8|    fog|64.94|55.04|\n",
      "|2015-09-18|          0.0|    19.4|    12.8| 2.6|    sun|66.92|55.04|\n",
      "|2015-09-19|          0.0|    21.1|    14.4| 4.3|    sun|69.98|57.92|\n",
      "|2015-09-20|          4.1|    22.8|    12.2| 6.8|    fog|73.04|53.96|\n",
      "+----------+-------------+--------+--------+----+-------+-----+-----+\n",
      "only showing top 20 rows\n",
      "\n"
     ]
    }
   ],
   "source": [
    "q3_df.show()"
   ]
  },
  {
   "cell_type": "code",
   "execution_count": 45,
   "id": "c486c22e-db06-4d76-831c-9a912ef50089",
   "metadata": {
    "tags": []
   },
   "outputs": [],
   "source": [
    "total_count = q3_df.count()"
   ]
  },
  {
   "cell_type": "code",
   "execution_count": 46,
   "id": "28ad7fd6-832c-4d90-b944-f9c766a419c1",
   "metadata": {
    "tags": []
   },
   "outputs": [
    {
     "data": {
      "text/plain": [
       "122"
      ]
     },
     "execution_count": 46,
     "metadata": {},
     "output_type": "execute_result"
    }
   ],
   "source": [
    "total_count"
   ]
  },
  {
   "cell_type": "code",
   "execution_count": 47,
   "id": "1adb3401-b511-486d-8098-be817919cd7b",
   "metadata": {
    "tags": []
   },
   "outputs": [],
   "source": [
    "rain_count = q3_df.filter(col(\"weather\") == \"rain\").count()\n",
    "\n",
    "q3_rain_percentage = rain_count / total_count * 100"
   ]
  },
  {
   "cell_type": "code",
   "execution_count": 48,
   "id": "27eb9b7c-260e-4adc-88f8-48c5ebe64bcc",
   "metadata": {
    "tags": []
   },
   "outputs": [
    {
     "data": {
      "text/plain": [
       "0.819672131147541"
      ]
     },
     "execution_count": 48,
     "metadata": {},
     "output_type": "execute_result"
    }
   ],
   "source": [
    "q3_rain_percentage"
   ]
  },
  {
   "cell_type": "markdown",
   "id": "c217af03-075d-45c3-896d-3b4176cf7bbd",
   "metadata": {},
   "source": [
    "## For each year, find what percentage of days it rained (had non-zero precipitation)."
   ]
  },
  {
   "cell_type": "code",
   "execution_count": 49,
   "id": "3f2e56f4-03b9-4a25-aca6-83277f80441a",
   "metadata": {
    "tags": []
   },
   "outputs": [],
   "source": [
    "rainy_days_df = weather.groupBy(year('date').alias('year')) \\\n",
    "    .agg(sum(when(weather.precipitation > 0, 1).otherwise(0)).alias('rainy_days'))"
   ]
  },
  {
   "cell_type": "code",
   "execution_count": 50,
   "id": "c234c762-8d9b-4489-92be-e43f0ae5e59f",
   "metadata": {
    "tags": []
   },
   "outputs": [
    {
     "name": "stdout",
     "output_type": "stream",
     "text": [
      "+----+----------+\n",
      "|year|rainy_days|\n",
      "+----+----------+\n",
      "|2012|       177|\n",
      "|2013|       152|\n",
      "+----+----------+\n",
      "only showing top 2 rows\n",
      "\n"
     ]
    }
   ],
   "source": [
    "rainy_days_df.show(2)"
   ]
  },
  {
   "cell_type": "code",
   "execution_count": 51,
   "id": "3437b315-b65e-4105-815a-5f2a343de414",
   "metadata": {
    "tags": []
   },
   "outputs": [],
   "source": [
    "total_days_df = weather.groupBy(year('date').alias('year')) \\\n",
    "    .agg(count('*').alias('total_days'))"
   ]
  },
  {
   "cell_type": "code",
   "execution_count": 52,
   "id": "3848d179-6835-42c4-8257-3c1df66dfc77",
   "metadata": {},
   "outputs": [
    {
     "name": "stdout",
     "output_type": "stream",
     "text": [
      "+----+----------+\n",
      "|year|total_days|\n",
      "+----+----------+\n",
      "|2012|       366|\n",
      "|2013|       365|\n",
      "|2014|       365|\n",
      "|2015|       365|\n",
      "+----+----------+\n",
      "\n"
     ]
    }
   ],
   "source": [
    "total_days_df.show(5)"
   ]
  },
  {
   "cell_type": "code",
   "execution_count": 53,
   "id": "e0f96294-fcb8-4211-8b11-c612743d8383",
   "metadata": {
    "tags": []
   },
   "outputs": [],
   "source": [
    "joined_df = rainy_days_df.join(total_days_df, 'year', 'inner')"
   ]
  },
  {
   "cell_type": "code",
   "execution_count": 54,
   "id": "1130b215-b555-485c-939c-f90d0026fad6",
   "metadata": {},
   "outputs": [
    {
     "data": {
      "text/plain": [
       "DataFrame[year: int, rainy_days: bigint, total_days: bigint]"
      ]
     },
     "execution_count": 54,
     "metadata": {},
     "output_type": "execute_result"
    }
   ],
   "source": [
    "joined_df"
   ]
  },
  {
   "cell_type": "code",
   "execution_count": 55,
   "id": "b52a47d5-2b55-41c2-ac10-ae7933fa2bfa",
   "metadata": {
    "tags": []
   },
   "outputs": [],
   "source": [
    "percentage_rainy_days_df = joined_df.withColumn(\n",
    "    'rainy_days_percentage', round((joined_df.rainy_days / joined_df.total_days) * 100, 2)\n",
    ")"
   ]
  },
  {
   "cell_type": "code",
   "execution_count": 56,
   "id": "9670e5ef-7334-4cd1-ab4c-b33fe08f1be1",
   "metadata": {
    "tags": []
   },
   "outputs": [
    {
     "name": "stdout",
     "output_type": "stream",
     "text": [
      "+----+----------+----------+---------------------+\n",
      "|year|rainy_days|total_days|rainy_days_percentage|\n",
      "+----+----------+----------+---------------------+\n",
      "|2012|177       |366       |48.36                |\n",
      "|2013|152       |365       |41.64                |\n",
      "|2014|150       |365       |41.1                 |\n",
      "|2015|144       |365       |39.45                |\n",
      "+----+----------+----------+---------------------+\n",
      "\n"
     ]
    }
   ],
   "source": [
    "percentage_rainy_days_df.show(truncate=False)"
   ]
  }
 ],
 "metadata": {
  "kernelspec": {
   "display_name": "Python 3 (ipykernel)",
   "language": "python",
   "name": "python3"
  },
  "language_info": {
   "codemirror_mode": {
    "name": "ipython",
    "version": 3
   },
   "file_extension": ".py",
   "mimetype": "text/x-python",
   "name": "python",
   "nbconvert_exporter": "python",
   "pygments_lexer": "ipython3",
   "version": "3.10.9"
  }
 },
 "nbformat": 4,
 "nbformat_minor": 5
}
