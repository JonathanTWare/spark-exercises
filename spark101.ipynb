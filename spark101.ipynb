{
 "cells": [
  {
   "cell_type": "code",
   "execution_count": 99,
   "id": "8527fcbd-d6dd-411f-924d-d38f7ee443e9",
   "metadata": {
    "tags": []
   },
   "outputs": [],
   "source": [
    "import pyspark\n",
    "import pyspark.sql.functions as F\n",
    "from pyspark.sql.functions import col, concat, lit, when, regexp_replace, regexp_extract, countDistinct, sum\n",
    "from pyspark.sql import SparkSession\n",
    "import pandas as pd\n",
    "import numpy as np\n",
    "from pydataset import data as pydata\n",
    "import warnings\n",
    "warnings.filterwarnings(\"ignore\", category=DeprecationWarning)\n",
    "import seaborn as sns"
   ]
  },
  {
   "cell_type": "markdown",
   "id": "afeefce7-d4c2-443e-86b7-b18175e245bb",
   "metadata": {},
   "source": [
    "## Create a spark data frame that contains your favorite programming languages."
   ]
  },
  {
   "cell_type": "code",
   "execution_count": 56,
   "id": "d696685f-81fc-409d-91af-ab0a1eb4f0da",
   "metadata": {
    "tags": []
   },
   "outputs": [
    {
     "name": "stdout",
     "output_type": "stream",
     "text": [
      "root\n",
      " |-- language: string (nullable = true)\n",
      "\n",
      "Shape of the DataFrame: 7 rows, 1 columns\n",
      "+----------+\n",
      "|  language|\n",
      "+----------+\n",
      "|    Python|\n",
      "|      Java|\n",
      "|JavaScript|\n",
      "|       C++|\n",
      "|      Ruby|\n",
      "+----------+\n",
      "only showing top 5 rows\n",
      "\n"
     ]
    }
   ],
   "source": [
    "spark = SparkSession.builder \\\n",
    "    .appName(\"FavoriteProgrammingLanguages\") \\\n",
    "    .getOrCreate()\n",
    "\n",
    "\n",
    "data = [(\"Python\",),\n",
    "        (\"Java\",),\n",
    "        (\"JavaScript\",),\n",
    "        (\"C++\",),\n",
    "        (\"Ruby\",),\n",
    "        (\"Swift\",),\n",
    "        (\"Go\",)]\n",
    "\n",
    "columns = [\"language\"]\n",
    "df = spark.createDataFrame(data, columns)\n",
    "\n",
    "df.printSchema()\n",
    "\n",
    "num_rows = df.count()\n",
    "num_cols = len(df.columns)\n",
    "print(f\"Shape of the DataFrame: {num_rows} rows, {num_cols} columns\")\n",
    "\n",
    "df.show(5)"
   ]
  },
  {
   "cell_type": "markdown",
   "id": "6f887d6e-8de5-4531-986d-852b9fd06794",
   "metadata": {},
   "source": [
    "## The name of the column should be language"
   ]
  },
  {
   "cell_type": "code",
   "execution_count": 57,
   "id": "8186eddf-4013-4da8-83aa-369bb01425a7",
   "metadata": {
    "tags": []
   },
   "outputs": [
    {
     "name": "stdout",
     "output_type": "stream",
     "text": [
      "+----------+\n",
      "|  language|\n",
      "+----------+\n",
      "|    Python|\n",
      "|      Java|\n",
      "|JavaScript|\n",
      "|       C++|\n",
      "|      Ruby|\n",
      "|     Swift|\n",
      "|        Go|\n",
      "+----------+\n",
      "\n"
     ]
    }
   ],
   "source": [
    "df.select('language').show()"
   ]
  },
  {
   "cell_type": "markdown",
   "id": "73de0e31-c3de-4f5f-95c0-fc7038868f81",
   "metadata": {},
   "source": [
    "## View the schema of the dataframe"
   ]
  },
  {
   "cell_type": "code",
   "execution_count": 58,
   "id": "b1e9365e-ebc1-48a4-8e7e-cf5726121757",
   "metadata": {
    "tags": []
   },
   "outputs": [
    {
     "name": "stdout",
     "output_type": "stream",
     "text": [
      "root\n",
      " |-- language: string (nullable = true)\n",
      "\n"
     ]
    }
   ],
   "source": [
    "df.printSchema()\n"
   ]
  },
  {
   "cell_type": "markdown",
   "id": "7a69a7cb-fc6a-48b3-a317-edd70f745885",
   "metadata": {},
   "source": [
    "## Output the shape of the dataframe"
   ]
  },
  {
   "cell_type": "code",
   "execution_count": 59,
   "id": "ee579d73-89d9-46da-b6c1-bc7a66c6b8b6",
   "metadata": {
    "tags": []
   },
   "outputs": [],
   "source": [
    "num_rows = df.count()\n",
    "num_cols = len(df.columns)"
   ]
  },
  {
   "cell_type": "code",
   "execution_count": 60,
   "id": "d802c476-06dc-4ad5-824f-478004c31a2f",
   "metadata": {
    "tags": []
   },
   "outputs": [
    {
     "name": "stdout",
     "output_type": "stream",
     "text": [
      "(1,7)\n"
     ]
    }
   ],
   "source": [
    "print(f'({num_cols},{num_rows})')"
   ]
  },
  {
   "cell_type": "markdown",
   "id": "5c2bb105-4998-4ccf-9c07-9ddde1a570ed",
   "metadata": {},
   "source": [
    "## Show the first 5 records in the dataframe"
   ]
  },
  {
   "cell_type": "code",
   "execution_count": 61,
   "id": "cefe910e-856d-45e3-97b0-979800af9c02",
   "metadata": {
    "tags": []
   },
   "outputs": [
    {
     "name": "stdout",
     "output_type": "stream",
     "text": [
      "+----------+\n",
      "|  language|\n",
      "+----------+\n",
      "|    Python|\n",
      "|      Java|\n",
      "|JavaScript|\n",
      "|       C++|\n",
      "|      Ruby|\n",
      "+----------+\n",
      "only showing top 5 rows\n",
      "\n"
     ]
    }
   ],
   "source": [
    "df.select('language').show(5)"
   ]
  },
  {
   "cell_type": "markdown",
   "id": "10e8a773-49c5-4755-8c77-2c09d8aa96a9",
   "metadata": {},
   "source": [
    "## Load the mpg dataset as a spark dataframe."
   ]
  },
  {
   "cell_type": "code",
   "execution_count": 62,
   "id": "501d8dba-30a9-4cb9-b36c-c1c12aa8d0ab",
   "metadata": {
    "tags": []
   },
   "outputs": [],
   "source": [
    "mpg = pydata('mpg')"
   ]
  },
  {
   "cell_type": "markdown",
   "id": "c409de91-7dbd-412b-bc6a-544108058ba4",
   "metadata": {},
   "source": [
    "## Create 1 column of output that contains a message like the one below:"
   ]
  },
  {
   "cell_type": "markdown",
   "id": "3bec81fe-dbd2-44e9-8ca5-1e9d3a20d47d",
   "metadata": {},
   "source": [
    "#### \"The 1999 audi a4 has a 4 cylinder engine.\""
   ]
  },
  {
   "cell_type": "markdown",
   "id": "ec91d492-0889-4f50-a8af-98995dee84f9",
   "metadata": {},
   "source": [
    "### For each vehicle."
   ]
  },
  {
   "cell_type": "code",
   "execution_count": 63,
   "id": "7cff0f3e-7f2f-44c4-9bd0-72f5bc4b54dd",
   "metadata": {
    "tags": []
   },
   "outputs": [
    {
     "name": "stdout",
     "output_type": "stream",
     "text": [
      "+------------+------------------+-----+----+---+----------+---+---+---+---+-------+---------------------------------------------------------+\n",
      "|manufacturer|model             |displ|year|cyl|trans     |drv|cty|hwy|fl |class  |message                                                  |\n",
      "+------------+------------------+-----+----+---+----------+---+---+---+---+-------+---------------------------------------------------------+\n",
      "|audi        |a4                |1.8  |1999|4  |auto(l5)  |f  |18 |29 |p  |compact|The audi a4 has a 4 cylinder engine.                     |\n",
      "|audi        |a4                |1.8  |1999|4  |manual(m5)|f  |21 |29 |p  |compact|The audi a4 has a 4 cylinder engine.                     |\n",
      "|audi        |a4                |2.0  |2008|4  |manual(m6)|f  |20 |31 |p  |compact|The audi a4 has a 4 cylinder engine.                     |\n",
      "|audi        |a4                |2.0  |2008|4  |auto(av)  |f  |21 |30 |p  |compact|The audi a4 has a 4 cylinder engine.                     |\n",
      "|audi        |a4                |2.8  |1999|6  |auto(l5)  |f  |16 |26 |p  |compact|The audi a4 has a 6 cylinder engine.                     |\n",
      "|audi        |a4                |2.8  |1999|6  |manual(m5)|f  |18 |26 |p  |compact|The audi a4 has a 6 cylinder engine.                     |\n",
      "|audi        |a4                |3.1  |2008|6  |auto(av)  |f  |18 |27 |p  |compact|The audi a4 has a 6 cylinder engine.                     |\n",
      "|audi        |a4 quattro        |1.8  |1999|4  |manual(m5)|4  |18 |26 |p  |compact|The audi a4 quattro has a 4 cylinder engine.             |\n",
      "|audi        |a4 quattro        |1.8  |1999|4  |auto(l5)  |4  |16 |25 |p  |compact|The audi a4 quattro has a 4 cylinder engine.             |\n",
      "|audi        |a4 quattro        |2.0  |2008|4  |manual(m6)|4  |20 |28 |p  |compact|The audi a4 quattro has a 4 cylinder engine.             |\n",
      "|audi        |a4 quattro        |2.0  |2008|4  |auto(s6)  |4  |19 |27 |p  |compact|The audi a4 quattro has a 4 cylinder engine.             |\n",
      "|audi        |a4 quattro        |2.8  |1999|6  |auto(l5)  |4  |15 |25 |p  |compact|The audi a4 quattro has a 6 cylinder engine.             |\n",
      "|audi        |a4 quattro        |2.8  |1999|6  |manual(m5)|4  |17 |25 |p  |compact|The audi a4 quattro has a 6 cylinder engine.             |\n",
      "|audi        |a4 quattro        |3.1  |2008|6  |auto(s6)  |4  |17 |25 |p  |compact|The audi a4 quattro has a 6 cylinder engine.             |\n",
      "|audi        |a4 quattro        |3.1  |2008|6  |manual(m6)|4  |15 |25 |p  |compact|The audi a4 quattro has a 6 cylinder engine.             |\n",
      "|audi        |a6 quattro        |2.8  |1999|6  |auto(l5)  |4  |15 |24 |p  |midsize|The audi a6 quattro has a 6 cylinder engine.             |\n",
      "|audi        |a6 quattro        |3.1  |2008|6  |auto(s6)  |4  |17 |25 |p  |midsize|The audi a6 quattro has a 6 cylinder engine.             |\n",
      "|audi        |a6 quattro        |4.2  |2008|8  |auto(s6)  |4  |16 |23 |p  |midsize|The audi a6 quattro has a 8 cylinder engine.             |\n",
      "|chevrolet   |c1500 suburban 2wd|5.3  |2008|8  |auto(l4)  |r  |14 |20 |r  |suv    |The chevrolet c1500 suburban 2wd has a 8 cylinder engine.|\n",
      "|chevrolet   |c1500 suburban 2wd|5.3  |2008|8  |auto(l4)  |r  |11 |15 |e  |suv    |The chevrolet c1500 suburban 2wd has a 8 cylinder engine.|\n",
      "+------------+------------------+-----+----+---+----------+---+---+---+---+-------+---------------------------------------------------------+\n",
      "only showing top 20 rows\n",
      "\n"
     ]
    }
   ],
   "source": [
    "spark_mpg_df = spark.createDataFrame(mpg)\n",
    "\n",
    "spark_mpg_df = spark_mpg_df.withColumn(\n",
    "    \"message\",\n",
    "    concat(\n",
    "        lit(\"The \"),\n",
    "        col(\"manufacturer\"), lit(\" \"),\n",
    "        col(\"model\"), lit(\" has a \"),\n",
    "        col(\"cyl\"), lit(\" cylinder engine.\")\n",
    "    )\n",
    ")\n",
    "\n",
    "spark_mpg_df.show(truncate=False)\n",
    "\n",
    "\n"
   ]
  },
  {
   "cell_type": "markdown",
   "id": "41651c3c-2ce5-412d-8823-5fdc58d05cef",
   "metadata": {},
   "source": [
    "## Transform the trans column so that it only contains either manual or auto."
   ]
  },
  {
   "cell_type": "code",
   "execution_count": 66,
   "id": "010dbdcf-51ca-456f-959e-60a353fefb81",
   "metadata": {
    "tags": []
   },
   "outputs": [],
   "source": [
    "transformed_df = spark_mpg_df.withColumn(\n",
    "    \"trans\",\n",
    "    regexp_extract(col(\"trans\"), r\"(\\w+)\", 1)\n",
    ")\n"
   ]
  },
  {
   "cell_type": "code",
   "execution_count": 67,
   "id": "56354f50-b851-4860-8284-ad2883eab182",
   "metadata": {
    "tags": []
   },
   "outputs": [
    {
     "name": "stdout",
     "output_type": "stream",
     "text": [
      "+------------+------------------+-----+----+---+------+---+---+---+---+-------+--------------------+\n",
      "|manufacturer|             model|displ|year|cyl| trans|drv|cty|hwy| fl|  class|             message|\n",
      "+------------+------------------+-----+----+---+------+---+---+---+---+-------+--------------------+\n",
      "|        audi|                a4|  1.8|1999|  4|  auto|  f| 18| 29|  p|compact|The audi a4 has a...|\n",
      "|        audi|                a4|  1.8|1999|  4|manual|  f| 21| 29|  p|compact|The audi a4 has a...|\n",
      "|        audi|                a4|  2.0|2008|  4|manual|  f| 20| 31|  p|compact|The audi a4 has a...|\n",
      "|        audi|                a4|  2.0|2008|  4|  auto|  f| 21| 30|  p|compact|The audi a4 has a...|\n",
      "|        audi|                a4|  2.8|1999|  6|  auto|  f| 16| 26|  p|compact|The audi a4 has a...|\n",
      "|        audi|                a4|  2.8|1999|  6|manual|  f| 18| 26|  p|compact|The audi a4 has a...|\n",
      "|        audi|                a4|  3.1|2008|  6|  auto|  f| 18| 27|  p|compact|The audi a4 has a...|\n",
      "|        audi|        a4 quattro|  1.8|1999|  4|manual|  4| 18| 26|  p|compact|The audi a4 quatt...|\n",
      "|        audi|        a4 quattro|  1.8|1999|  4|  auto|  4| 16| 25|  p|compact|The audi a4 quatt...|\n",
      "|        audi|        a4 quattro|  2.0|2008|  4|manual|  4| 20| 28|  p|compact|The audi a4 quatt...|\n",
      "|        audi|        a4 quattro|  2.0|2008|  4|  auto|  4| 19| 27|  p|compact|The audi a4 quatt...|\n",
      "|        audi|        a4 quattro|  2.8|1999|  6|  auto|  4| 15| 25|  p|compact|The audi a4 quatt...|\n",
      "|        audi|        a4 quattro|  2.8|1999|  6|manual|  4| 17| 25|  p|compact|The audi a4 quatt...|\n",
      "|        audi|        a4 quattro|  3.1|2008|  6|  auto|  4| 17| 25|  p|compact|The audi a4 quatt...|\n",
      "|        audi|        a4 quattro|  3.1|2008|  6|manual|  4| 15| 25|  p|compact|The audi a4 quatt...|\n",
      "|        audi|        a6 quattro|  2.8|1999|  6|  auto|  4| 15| 24|  p|midsize|The audi a6 quatt...|\n",
      "|        audi|        a6 quattro|  3.1|2008|  6|  auto|  4| 17| 25|  p|midsize|The audi a6 quatt...|\n",
      "|        audi|        a6 quattro|  4.2|2008|  8|  auto|  4| 16| 23|  p|midsize|The audi a6 quatt...|\n",
      "|   chevrolet|c1500 suburban 2wd|  5.3|2008|  8|  auto|  r| 14| 20|  r|    suv|The chevrolet c15...|\n",
      "|   chevrolet|c1500 suburban 2wd|  5.3|2008|  8|  auto|  r| 11| 15|  e|    suv|The chevrolet c15...|\n",
      "+------------+------------------+-----+----+---+------+---+---+---+---+-------+--------------------+\n",
      "only showing top 20 rows\n",
      "\n"
     ]
    }
   ],
   "source": [
    "transformed_df.show()"
   ]
  },
  {
   "cell_type": "markdown",
   "id": "566393af-a366-47d6-b4c9-3b10f176ca86",
   "metadata": {},
   "source": [
    "## Load the tips dataset as a spark dataframe."
   ]
  },
  {
   "cell_type": "code",
   "execution_count": 68,
   "id": "fadc41d6-4c6c-4ced-aa81-13b0c8fe0195",
   "metadata": {
    "tags": []
   },
   "outputs": [],
   "source": [
    "tips = pydata('tips')"
   ]
  },
  {
   "cell_type": "markdown",
   "id": "cb0e4981-1a1b-4ce8-b48a-ad5382f53621",
   "metadata": {},
   "source": [
    "## What percentage of observations are smokers?"
   ]
  },
  {
   "cell_type": "code",
   "execution_count": 70,
   "id": "97407933-0fca-4be3-b538-84bfad6e27a0",
   "metadata": {
    "tags": []
   },
   "outputs": [],
   "source": [
    "tips_df = spark.createDataFrame(tips)"
   ]
  },
  {
   "cell_type": "code",
   "execution_count": 71,
   "id": "b61928cb-f057-4076-ac78-16365c2e6a0b",
   "metadata": {
    "tags": []
   },
   "outputs": [
    {
     "name": "stdout",
     "output_type": "stream",
     "text": [
      "+----------+----+------+------+---+------+----+\n",
      "|total_bill| tip|   sex|smoker|day|  time|size|\n",
      "+----------+----+------+------+---+------+----+\n",
      "|     16.99|1.01|Female|    No|Sun|Dinner|   2|\n",
      "|     10.34|1.66|  Male|    No|Sun|Dinner|   3|\n",
      "|     21.01| 3.5|  Male|    No|Sun|Dinner|   3|\n",
      "|     23.68|3.31|  Male|    No|Sun|Dinner|   2|\n",
      "|     24.59|3.61|Female|    No|Sun|Dinner|   4|\n",
      "+----------+----+------+------+---+------+----+\n",
      "only showing top 5 rows\n",
      "\n"
     ]
    }
   ],
   "source": [
    "tips_df.show(5)"
   ]
  },
  {
   "cell_type": "code",
   "execution_count": 78,
   "id": "e761d34a-c74d-41d8-b020-2a39c859bdb6",
   "metadata": {
    "tags": []
   },
   "outputs": [
    {
     "name": "stdout",
     "output_type": "stream",
     "text": [
      "+------+-----+\n",
      "|smoker|count|\n",
      "+------+-----+\n",
      "|    No|  151|\n",
      "|   Yes|   93|\n",
      "+------+-----+\n",
      "\n"
     ]
    }
   ],
   "source": [
    "smoker_counts = tips_df.groupBy('smoker').count().show()"
   ]
  },
  {
   "cell_type": "code",
   "execution_count": 85,
   "id": "92204811-72a8-468b-8052-027f0bc7d78a",
   "metadata": {
    "tags": []
   },
   "outputs": [],
   "source": [
    "total_count = tips_df.count()"
   ]
  },
  {
   "cell_type": "code",
   "execution_count": 89,
   "id": "880c4d53-69c7-4d5e-a743-b048dc94716a",
   "metadata": {
    "tags": []
   },
   "outputs": [
    {
     "data": {
      "text/plain": [
       "244"
      ]
     },
     "execution_count": 89,
     "metadata": {},
     "output_type": "execute_result"
    }
   ],
   "source": [
    "total_count"
   ]
  },
  {
   "cell_type": "code",
   "execution_count": 100,
   "id": "d79afb62-8394-4ef9-ab47-2fe29b22c8d5",
   "metadata": {
    "tags": []
   },
   "outputs": [],
   "source": [
    "smoker_count = tips_df.filter(col(\"smoker\") == \"Yes\").count()\n",
    "\n",
    "smoker_percentage = (smoker_count / total_count) * 100"
   ]
  },
  {
   "cell_type": "code",
   "execution_count": 101,
   "id": "3a72ad3f-8815-45cc-9371-49b851da95bb",
   "metadata": {
    "tags": []
   },
   "outputs": [
    {
     "data": {
      "text/plain": [
       "38.114754098360656"
      ]
     },
     "execution_count": 101,
     "metadata": {},
     "output_type": "execute_result"
    }
   ],
   "source": [
    "smoker_percentage"
   ]
  },
  {
   "cell_type": "markdown",
   "id": "d468109a-2161-4434-8364-4d58229706a5",
   "metadata": {},
   "source": [
    "## Create a column that contains the tip percentage"
   ]
  },
  {
   "cell_type": "code",
   "execution_count": 113,
   "id": "7db8ff9f-7b03-499c-bfc5-3589b3e9d3f6",
   "metadata": {
    "tags": []
   },
   "outputs": [
    {
     "ename": "SyntaxError",
     "evalue": "invalid syntax (310396625.py, line 3)",
     "output_type": "error",
     "traceback": [
      "\u001b[0;36m  Cell \u001b[0;32mIn[113], line 3\u001b[0;36m\u001b[0m\n\u001b[0;31m    .agg(round((col(\"tip\") / col(\"total_bill\")) * 100,2))\u001b[0m\n\u001b[0m    ^\u001b[0m\n\u001b[0;31mSyntaxError\u001b[0m\u001b[0;31m:\u001b[0m invalid syntax\n"
     ]
    }
   ],
   "source": [
    "tips_df = tips_df.withColumn(\n",
    "     \"tip_percentage\",\n",
    "    .agg(round((col(\"tip\") / col(\"total_bill\")) * 100,2))\n",
    ")\n",
    "\n"
   ]
  },
  {
   "cell_type": "code",
   "execution_count": 111,
   "id": "6cee3ca6-6bf7-48d4-8b47-58614b544b42",
   "metadata": {
    "tags": []
   },
   "outputs": [
    {
     "name": "stdout",
     "output_type": "stream",
     "text": [
      "+----------+----+------+------+---+------+----+------------------+\n",
      "|total_bill| tip|   sex|smoker|day|  time|size|    tip_percentage|\n",
      "+----------+----+------+------+---+------+----+------------------+\n",
      "|     16.99|1.01|Female|    No|Sun|Dinner|   2|5.9446733372572105|\n",
      "|     10.34|1.66|  Male|    No|Sun|Dinner|   3|16.054158607350097|\n",
      "|     21.01| 3.5|  Male|    No|Sun|Dinner|   3|16.658733936220845|\n",
      "|     23.68|3.31|  Male|    No|Sun|Dinner|   2| 13.97804054054054|\n",
      "|     24.59|3.61|Female|    No|Sun|Dinner|   4|14.680764538430255|\n",
      "+----------+----+------+------+---+------+----+------------------+\n",
      "only showing top 5 rows\n",
      "\n"
     ]
    }
   ],
   "source": [
    "tips_df.show(5)"
   ]
  },
  {
   "cell_type": "code",
   "execution_count": null,
   "id": "d8dd6c79-afd0-44e1-a07f-703e6084f63e",
   "metadata": {},
   "outputs": [],
   "source": []
  },
  {
   "cell_type": "markdown",
   "id": "091b63c9-4ce7-4b7c-96b3-9102c6dc9158",
   "metadata": {},
   "source": [
    "## Calculate the average tip percentage for each combination of sex and smoker."
   ]
  },
  {
   "cell_type": "code",
   "execution_count": null,
   "id": "7a7011d3-4504-4d84-b107-eca76054d4aa",
   "metadata": {},
   "outputs": [],
   "source": []
  },
  {
   "cell_type": "code",
   "execution_count": null,
   "id": "fea2b986-8467-4f76-9a17-a984d93afcc3",
   "metadata": {},
   "outputs": [],
   "source": []
  },
  {
   "cell_type": "code",
   "execution_count": null,
   "id": "76fa3077-88ad-4171-acec-f08b866c3928",
   "metadata": {},
   "outputs": [],
   "source": []
  },
  {
   "cell_type": "markdown",
   "id": "bc7e4af7-fc83-492b-9cf8-0ee11e12789c",
   "metadata": {},
   "source": [
    "## Use the seattle weather dataset referenced in the lesson to answer the questions below."
   ]
  },
  {
   "cell_type": "code",
   "execution_count": null,
   "id": "55fa1f13-8355-4324-9339-7ba956581599",
   "metadata": {},
   "outputs": [],
   "source": []
  },
  {
   "cell_type": "code",
   "execution_count": null,
   "id": "7b4273ac-d485-4f48-a1ee-ab01a0abe9c0",
   "metadata": {},
   "outputs": [],
   "source": []
  },
  {
   "cell_type": "code",
   "execution_count": null,
   "id": "8f86bc1e-bfb6-4e05-9914-dee9a68e846f",
   "metadata": {},
   "outputs": [],
   "source": []
  },
  {
   "cell_type": "markdown",
   "id": "996f5faf-27bc-479c-8f4f-815f2d2e6b11",
   "metadata": {},
   "source": [
    "## Convert the temperatures to fahrenheit."
   ]
  },
  {
   "cell_type": "code",
   "execution_count": null,
   "id": "0efea272-8262-4721-a8e1-e3b5c934c440",
   "metadata": {},
   "outputs": [],
   "source": []
  },
  {
   "cell_type": "code",
   "execution_count": null,
   "id": "e83c9d8d-8081-461a-bb5b-2219da632a3f",
   "metadata": {},
   "outputs": [],
   "source": []
  },
  {
   "cell_type": "markdown",
   "id": "b86231b6-b8ff-4708-a354-bb8f22b63ac2",
   "metadata": {},
   "source": [
    "## Which month has the most rain, on average?"
   ]
  },
  {
   "cell_type": "code",
   "execution_count": null,
   "id": "b3b69b82-e3bd-4d54-a41f-f4ee0f2cde17",
   "metadata": {},
   "outputs": [],
   "source": []
  },
  {
   "cell_type": "code",
   "execution_count": null,
   "id": "b78c6952-3874-4730-94fe-1d508c8759d3",
   "metadata": {},
   "outputs": [],
   "source": []
  },
  {
   "cell_type": "code",
   "execution_count": null,
   "id": "860dc4aa-2f30-46a6-9e5c-815ca748c743",
   "metadata": {},
   "outputs": [],
   "source": []
  },
  {
   "cell_type": "markdown",
   "id": "4757ca49-9f8d-4c92-9840-b2e08c9a0afe",
   "metadata": {},
   "source": [
    "## Which year was the windiest?"
   ]
  },
  {
   "cell_type": "code",
   "execution_count": null,
   "id": "27043d6c-cd56-4337-8363-252439ea274a",
   "metadata": {},
   "outputs": [],
   "source": []
  },
  {
   "cell_type": "code",
   "execution_count": null,
   "id": "2b76c78a-d98a-4ba6-b5c7-374f711294c5",
   "metadata": {},
   "outputs": [],
   "source": []
  },
  {
   "cell_type": "code",
   "execution_count": null,
   "id": "8b29a90f-eb51-4a16-82c1-35ded5d230ef",
   "metadata": {},
   "outputs": [],
   "source": []
  },
  {
   "cell_type": "markdown",
   "id": "083b7498-0449-4c04-a6ac-cda55891ed35",
   "metadata": {},
   "source": [
    "## What is the most frequent type of weather in January?"
   ]
  },
  {
   "cell_type": "code",
   "execution_count": null,
   "id": "a04d9e7c-44ae-4c37-acdb-d60f5fe10d02",
   "metadata": {},
   "outputs": [],
   "source": []
  },
  {
   "cell_type": "code",
   "execution_count": null,
   "id": "a51ea74c-24e9-4456-9b57-60f239d563e2",
   "metadata": {},
   "outputs": [],
   "source": []
  },
  {
   "cell_type": "markdown",
   "id": "ef92a1df-4abc-4073-aa89-dcb6afe78ff0",
   "metadata": {},
   "source": [
    "## What is the average high and low temperature on sunny days in July in 2013 and 2014?"
   ]
  },
  {
   "cell_type": "code",
   "execution_count": null,
   "id": "7186a075-ced0-4c2a-88d1-f618e8a37b5e",
   "metadata": {},
   "outputs": [],
   "source": []
  },
  {
   "cell_type": "code",
   "execution_count": null,
   "id": "1f9701c8-6ab7-4063-90cd-e9162901b922",
   "metadata": {},
   "outputs": [],
   "source": []
  },
  {
   "cell_type": "markdown",
   "id": "66b833eb-ee6e-4252-bcbb-0b5a2c8e1e83",
   "metadata": {},
   "source": [
    "## What percentage of days were rainy in q3 of 2015?"
   ]
  },
  {
   "cell_type": "code",
   "execution_count": null,
   "id": "9329a062-0c97-4a6a-bf7b-feaa191fda2d",
   "metadata": {},
   "outputs": [],
   "source": []
  },
  {
   "cell_type": "code",
   "execution_count": null,
   "id": "0faeeceb-afc0-44af-a320-641b7b5f45e3",
   "metadata": {},
   "outputs": [],
   "source": []
  },
  {
   "cell_type": "markdown",
   "id": "c217af03-075d-45c3-896d-3b4176cf7bbd",
   "metadata": {},
   "source": [
    "## For each year, find what percentage of days it rained (had non-zero precipitation)."
   ]
  },
  {
   "cell_type": "code",
   "execution_count": null,
   "id": "9470b03e-cb16-4e69-af8e-d4a52077ff3e",
   "metadata": {},
   "outputs": [],
   "source": []
  },
  {
   "cell_type": "code",
   "execution_count": null,
   "id": "808f9f49-c792-40ac-86e8-393e5a5add72",
   "metadata": {},
   "outputs": [],
   "source": []
  }
 ],
 "metadata": {
  "kernelspec": {
   "display_name": "Python 3 (ipykernel)",
   "language": "python",
   "name": "python3"
  },
  "language_info": {
   "codemirror_mode": {
    "name": "ipython",
    "version": 3
   },
   "file_extension": ".py",
   "mimetype": "text/x-python",
   "name": "python",
   "nbconvert_exporter": "python",
   "pygments_lexer": "ipython3",
   "version": "3.10.9"
  }
 },
 "nbformat": 4,
 "nbformat_minor": 5
}
